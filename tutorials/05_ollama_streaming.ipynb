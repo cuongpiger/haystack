{
 "cells": [
  {
   "cell_type": "markdown",
   "metadata": {},
   "source": [
    "# Demo streaming with Ollama\n",
    "- Run `Llama` model at local, and then using Haystack to make request to this model.\n",
    "\n",
    "### Preparation\n",
    "- Run Ollama instance at the local using Docker:\n",
    "  ```bash\n",
    "  docker run -d -p 11434:11434 --name ollama ollama/ollama:latest\n",
    "  ```\n",
    "\n",
    "- Exec to the container to pull Zephyr model\n",
    "  ```bash\n",
    "  docker exec ollama ollama pull zephyr\n",
    "  ```\n",
    "\n",
    "- Install `ollama-haystack` module:\n",
    "  ```bash\n",
    "  pip install ollama-haystack\n",
    "  ```"
   ]
  },
  {
   "cell_type": "code",
   "execution_count": 1,
   "metadata": {},
   "outputs": [],
   "source": [
    "%load_ext autoreload\n",
    "%autoreload 2"
   ]
  },
  {
   "cell_type": "markdown",
   "metadata": {},
   "source": [
    "Import dependencies"
   ]
  },
  {
   "cell_type": "code",
   "execution_count": 2,
   "metadata": {},
   "outputs": [],
   "source": [
    "from haystack_integrations.components.generators.ollama import OllamaChatGenerator\n",
    "from haystack.dataclasses import ChatMessage"
   ]
  },
  {
   "cell_type": "markdown",
   "metadata": {},
   "source": [
    "Prepare the prompt template"
   ]
  },
  {
   "cell_type": "code",
   "execution_count": 3,
   "metadata": {},
   "outputs": [],
   "source": [
    "generator = OllamaChatGenerator(\n",
    "    model=\"zephyr\",\n",
    "    streaming_callback=lambda chunk: print(chunk.content, end=\"\", flush=True),\n",
    "    url = \"http://localhost:11434\",\n",
    "    generation_kwargs={\n",
    "        \"num_predict\": 100,\n",
    "        \"temperature\": 0.9})"
   ]
  },
  {
   "cell_type": "code",
   "execution_count": 4,
   "metadata": {},
   "outputs": [],
   "source": [
    "messages = [ChatMessage.from_system(\"\\nYou are a helpful, respectful and honest assistant\"),\n",
    "ChatMessage.from_user(\"What's Natural Language Processing?\")]"
   ]
  },
  {
   "cell_type": "code",
   "execution_count": 5,
   "metadata": {},
   "outputs": [
    {
     "name": "stdout",
     "output_type": "stream",
     "text": [
      "Natural Language Processing (NLP) is a subfield of Artificial Intelligence that deals with the interaction between computers and human language. It enables computers to understand, interpret, generate, and manipulate human natural language text or speech. NLP algorithms help computers process and analyze large volumes of natural language data, extract insights, and make intelligent decisions based on this information. The applications of NLP range from search engines, virtual assistants, chatbots, and machine translation to question answering{'replies': [ChatMessage(content='Natural Language Processing (NLP) is a subfield of Artificial Intelligence that deals with the interaction between computers and human language. It enables computers to understand, interpret, generate, and manipulate human natural language text or speech. NLP algorithms help computers process and analyze large volumes of natural language data, extract insights, and make intelligent decisions based on this information. The applications of NLP range from search engines, virtual assistants, chatbots, and machine translation to question answering', role=<ChatRole.ASSISTANT: 'assistant'>, name=None, meta={})], 'meta': [{'model': 'zephyr', 'created_at': '2024-12-27T03:40:24.67332474Z', 'done': False, 'done_reason': None, 'total_duration': None, 'load_duration': None, 'prompt_eval_count': None, 'prompt_eval_duration': None, 'eval_count': None, 'eval_duration': None, 'role': 'assistant'}]}\n"
     ]
    }
   ],
   "source": [
    "print(generator.run(messages=messages))"
   ]
  },
  {
   "cell_type": "code",
   "execution_count": null,
   "metadata": {},
   "outputs": [],
   "source": []
  }
 ],
 "metadata": {
  "kernelspec": {
   "display_name": "Python 3",
   "language": "python",
   "name": "python3"
  },
  "language_info": {
   "codemirror_mode": {
    "name": "ipython",
    "version": 3
   },
   "file_extension": ".py",
   "mimetype": "text/x-python",
   "name": "python",
   "nbconvert_exporter": "python",
   "pygments_lexer": "ipython3",
   "version": "3.10.12"
  }
 },
 "nbformat": 4,
 "nbformat_minor": 2
}
