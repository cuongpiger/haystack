{
 "cells": [
  {
   "cell_type": "markdown",
   "metadata": {},
   "source": [
    "# `OutputAdapter`\n"
   ]
  },
  {
   "cell_type": "code",
   "execution_count": 1,
   "metadata": {},
   "outputs": [],
   "source": [
    "%load_ext autoreload\n",
    "%autoreload 2"
   ]
  },
  {
   "cell_type": "markdown",
   "metadata": {},
   "source": [
    "## On its own\n"
   ]
  },
  {
   "cell_type": "code",
   "execution_count": 2,
   "metadata": {},
   "outputs": [],
   "source": [
    "from haystack import Document\n",
    "from haystack.components.converters import OutputAdapter"
   ]
  },
  {
   "cell_type": "code",
   "execution_count": 3,
   "metadata": {},
   "outputs": [],
   "source": [
    "adapter = OutputAdapter(template=\"{{ documents[0].content }}\", output_type=str)\n",
    "input_data = {\"documents\": [Document(content=\"Test content\")]}\n",
    "expected_output = {\"output\": \"Test content\"}\n",
    "assert adapter.run(**input_data) == expected_output"
   ]
  },
  {
   "cell_type": "markdown",
   "metadata": {},
   "source": [
    "## In Pipeline"
   ]
  },
  {
   "cell_type": "code",
   "execution_count": 4,
   "metadata": {},
   "outputs": [],
   "source": [
    "from haystack import Pipeline, component, Document\n",
    "from haystack.components.converters import OutputAdapter\n",
    "\n",
    "@component\n",
    "class DocumentProducer:\n",
    "    @component.output_types(documents=dict)\n",
    "    def run(self):\n",
    "        return {\"documents\": [Document(content=\"haystack\")]}\n",
    "\n",
    "pipe = Pipeline()\n",
    "pipe.add_component(\n",
    "    name=\"output_adapter\",\n",
    "    instance=OutputAdapter(template=\"{{ documents[0].content | capitalize}}\", output_type=str),\n",
    ")\n",
    "pipe.add_component(name=\"document_producer\", instance=DocumentProducer())\n",
    "pipe.connect(\"document_producer\", \"output_adapter\")\n",
    "result = pipe.run(data={})\n",
    "\n",
    "assert result[\"output_adapter\"][\"output\"] == \"Haystack\""
   ]
  },
  {
   "cell_type": "code",
   "execution_count": 5,
   "metadata": {},
   "outputs": [],
   "source": [
    "from haystack import Pipeline, component, Document\n",
    "from haystack.components.converters import OutputAdapter\n",
    "\n",
    "def reverse_string(s):\n",
    "    return s[::-1]\n",
    "\n",
    "@component\n",
    "class DocumentProducer:\n",
    "    @component.output_types(documents=dict)\n",
    "    def run(self):\n",
    "        return {\"documents\": [Document(content=\"haystack\")]}\n",
    "\n",
    "pipe = Pipeline()\n",
    "pipe.add_component(\n",
    "    name=\"output_adapter\",\n",
    "    instance=OutputAdapter(template=\"{{ documents[0].content | reverse_string}}\",\n",
    "                           output_type=str,\n",
    "                           custom_filters={\"reverse_string\": reverse_string}))\n",
    "\n",
    "pipe.add_component(name=\"document_producer\", instance=DocumentProducer())\n",
    "pipe.connect(\"document_producer\", \"output_adapter\")\n",
    "result = pipe.run(data={})\n",
    "\n",
    "assert result[\"output_adapter\"][\"output\"] == \"kcatsyah\""
   ]
  },
  {
   "cell_type": "code",
   "execution_count": null,
   "metadata": {},
   "outputs": [],
   "source": []
  }
 ],
 "metadata": {
  "kernelspec": {
   "display_name": ".venv",
   "language": "python",
   "name": "python3"
  },
  "language_info": {
   "codemirror_mode": {
    "name": "ipython",
    "version": 3
   },
   "file_extension": ".py",
   "mimetype": "text/x-python",
   "name": "python",
   "nbconvert_exporter": "python",
   "pygments_lexer": "ipython3",
   "version": "3.12.3"
  }
 },
 "nbformat": 4,
 "nbformat_minor": 2
}
