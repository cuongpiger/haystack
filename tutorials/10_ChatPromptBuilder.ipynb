{
 "cells": [
  {
   "cell_type": "markdown",
   "metadata": {},
   "source": [
    "# `ChatPromptBuilder`\n",
    "- Enable GPU in Docker [https://github.com/ollama/ollama/blob/main/docs/docker.md](https://github.com/ollama/ollama/blob/main/docs/docker.md):\n",
    "  ```bash\n",
    "  curl -fsSL https://nvidia.github.io/libnvidia-container/gpgkey \\\n",
    "      | sudo gpg --dearmor -o /usr/share/keyrings/nvidia-container-toolkit-keyring.gpg\n",
    "  curl -s -L https://nvidia.github.io/libnvidia-container/stable/deb/nvidia-container-toolkit.list \\\n",
    "      | sed 's#deb https://#deb [signed-by=/usr/share/keyrings/nvidia-container-toolkit-keyring.gpg] https://#g' \\\n",
    "      | sudo tee /etc/apt/sources.list.d/nvidia-container-toolkit.list\n",
    "  sudo apt-get update\n",
    "\n",
    "  sudo apt-get install -y nvidia-container-toolkit\n",
    "\n",
    "  sudo nvidia-ctk runtime configure --runtime=docker\n",
    "\n",
    "  sudo systemctl restart docker\n",
    "  ```\n",
    "\n",
    "- Run Ollama in Docker integrated with GPU:\n",
    "  ```bash\n",
    "  docker run -d --gpus=all -v ollama:/root/.ollama -p 11434:11434 --name ollama ollama/ollama\n",
    "  docker exec ollama ollama pull hf.co/janhq/Vistral-7b-Chat-GGUF:Q5_K_M\n",
    "  docker exec ollama ollama pull hf.co/janhq/Vistral-7b-Chat-GGUF:Q8_0\n",
    "  ```"
   ]
  },
  {
   "cell_type": "code",
   "execution_count": 1,
   "metadata": {},
   "outputs": [],
   "source": [
    "%load_ext autoreload\n",
    "%autoreload 2"
   ]
  },
  {
   "cell_type": "markdown",
   "metadata": {},
   "source": [
    "## On its own"
   ]
  },
  {
   "cell_type": "code",
   "execution_count": 2,
   "metadata": {},
   "outputs": [],
   "source": [
    "from haystack.components.builders import ChatPromptBuilder\n",
    "from haystack.dataclasses import ChatMessage"
   ]
  },
  {
   "cell_type": "code",
   "execution_count": 3,
   "metadata": {},
   "outputs": [],
   "source": [
    "template = [ChatMessage.from_user(\"Translate to {{ target_language }}. Context: {{ snippet }}; Translation:\")]\n",
    "builder = ChatPromptBuilder(template=template)\n",
    "res = builder.run(target_language=\"spanish\", snippet=\"I can't speak spanish.\")"
   ]
  },
  {
   "cell_type": "code",
   "execution_count": 4,
   "metadata": {},
   "outputs": [
    {
     "data": {
      "text/plain": [
       "{'prompt': [ChatMessage(content=\"Translate to spanish. Context: I can't speak spanish.; Translation:\", role=<ChatRole.USER: 'user'>, name=None, meta={})]}"
      ]
     },
     "execution_count": 4,
     "metadata": {},
     "output_type": "execute_result"
    }
   ],
   "source": [
    "res"
   ]
  },
  {
   "cell_type": "markdown",
   "metadata": {},
   "source": [
    "### Overriding static template at runtime"
   ]
  },
  {
   "cell_type": "code",
   "execution_count": 5,
   "metadata": {},
   "outputs": [],
   "source": [
    "summary_template = [ChatMessage.from_user(\"Translate to {{ target_language }} and summarize. Context: {{ snippet }}; Summary:\")]\n",
    "res = builder.run(target_language=\"spanish\", snippet=\"I can't speak spanish.\", template=summary_template)"
   ]
  },
  {
   "cell_type": "code",
   "execution_count": 6,
   "metadata": {},
   "outputs": [
    {
     "data": {
      "text/plain": [
       "{'prompt': [ChatMessage(content=\"Translate to spanish and summarize. Context: I can't speak spanish.; Summary:\", role=<ChatRole.USER: 'user'>, name=None, meta={})]}"
      ]
     },
     "execution_count": 6,
     "metadata": {},
     "output_type": "execute_result"
    }
   ],
   "source": [
    "res"
   ]
  },
  {
   "cell_type": "markdown",
   "metadata": {},
   "source": [
    "## In pipeline"
   ]
  },
  {
   "cell_type": "code",
   "execution_count": 7,
   "metadata": {},
   "outputs": [],
   "source": [
    "from haystack_integrations.components.generators.ollama import OllamaChatGenerator\n",
    "from haystack.components.builders import ChatPromptBuilder\n",
    "from haystack.components.generators.chat import OpenAIChatGenerator\n",
    "from haystack.dataclasses import ChatMessage\n",
    "from haystack import Pipeline"
   ]
  },
  {
   "cell_type": "code",
   "execution_count": 8,
   "metadata": {},
   "outputs": [],
   "source": [
    "# no parameter init, we don't use any runtime template variables\n",
    "prompt_builder = ChatPromptBuilder()\n",
    "llm = OllamaChatGenerator(\n",
    "    model=\"hf.co/janhq/Vistral-7b-Chat-GGUF:Q8_0\",\n",
    "    streaming_callback=lambda chunk: print(chunk.content, end=\"\", flush=True),\n",
    "    url = \"http://localhost:11434\",\n",
    "    generation_kwargs={\n",
    "        \"num_predict\": 100,\n",
    "        \"temperature\": 0.9})"
   ]
  },
  {
   "cell_type": "code",
   "execution_count": 9,
   "metadata": {},
   "outputs": [
    {
     "data": {
      "text/plain": [
       "<haystack.core.pipeline.pipeline.Pipeline object at 0x7058d3937b30>\n",
       "🚅 Components\n",
       "  - prompt_builder: ChatPromptBuilder\n",
       "  - llm: OllamaChatGenerator\n",
       "🛤️ Connections\n",
       "  - prompt_builder.prompt -> llm.messages (List[ChatMessage])"
      ]
     },
     "execution_count": 9,
     "metadata": {},
     "output_type": "execute_result"
    }
   ],
   "source": [
    "pipe = Pipeline()\n",
    "pipe.add_component(\"prompt_builder\", prompt_builder)\n",
    "pipe.add_component(\"llm\", llm)\n",
    "pipe.connect(\"prompt_builder.prompt\", \"llm.messages\")"
   ]
  },
  {
   "cell_type": "code",
   "execution_count": 10,
   "metadata": {},
   "outputs": [
    {
     "name": "stdout",
     "output_type": "stream",
     "text": [
      "Thành phố Hồ Chí Minh, thường được gọi là Sài Gòn, là một trong những thành phố lớn nhất Việt Nam. Nó nằm ở phía nam của đất nước và đóng vai trò quan trọng như trung tâm thương mại, kinh tế và văn hoá chính trị. Thành phố nổi tiếng với những tòa nhà chọc trời hiện đại cũng như sự pha trộn giữa các khu vực lịch sử cổ kính và phát triển mới mẻ\n",
      "Thành phố Hồ Chí Minh có dân số hơn 8 triệu người và được biết đến{'llm': {'replies': [ChatMessage(content='Thành phố Hồ Chí Minh, thường được gọi là Sài Gòn, là một trong những thành phố lớn nhất Việt Nam. Nó nằm ở phía nam của đất nước và đóng vai trò quan trọng như trung tâm thương mại, kinh tế và văn hoá chính trị. Thành phố nổi tiếng với những tòa nhà chọc trời hiện đại cũng như sự pha trộn giữa các khu vực lịch sử cổ kính và phát triển mới mẻ\\nThành phố Hồ Chí Minh có dân số hơn 8 triệu người và được biết đến', role=<ChatRole.ASSISTANT: 'assistant'>, name=None, meta={})], 'meta': [{'model': 'hf.co/janhq/Vistral-7b-Chat-GGUF:Q8_0', 'created_at': '2024-12-29T08:21:49.194120862Z', 'done': False, 'done_reason': None, 'total_duration': None, 'load_duration': None, 'prompt_eval_count': None, 'prompt_eval_duration': None, 'eval_count': None, 'eval_duration': None, 'role': 'assistant'}]}}\n"
     ]
    }
   ],
   "source": [
    "location = \"Thành phố Hồ Chi Minh\"\n",
    "language = \"Việt Nam\"\n",
    "system_message = ChatMessage.from_system(\"Bạn là trợ lý cung cấp thông tin cho khách du lịch tại {{language}}\")\n",
    "messages = [system_message, ChatMessage.from_user(\"Tell me about {{location}}\")]\n",
    "\n",
    "res = pipe.run(data={\"prompt_builder\": {\"template_variables\": {\"location\": location, \"language\": language},\n",
    "                                    \"template\": messages}})\n",
    "\n",
    "print(res)"
   ]
  },
  {
   "cell_type": "markdown",
   "metadata": {},
   "source": [
    "Now I can ask about the weather in HoChiMinh City."
   ]
  },
  {
   "cell_type": "code",
   "execution_count": 11,
   "metadata": {},
   "outputs": [
    {
     "name": "stdout",
     "output_type": "stream",
     "text": [
      "Để tôi kiểm tra dự báo thời tiết cho bạn. Theo dự đoán, nhiệt độ sẽ ở mức từ 26 đến 31 C với phần lớn các ngày có mưa nhỏ hoặc không mưa vào những ngày sắp tới. Thời tiết được mong đợi là nắng đẹp và hơi ấm áp. Hãy nhớ mang theo một chiếc ô nếu cần thiết. Tôi hy vọng điều này hữu ích!\n",
      "{'llm': {'replies': [ChatMessage(content='Để tôi kiểm tra dự báo thời tiết cho bạn. Theo dự đoán, nhiệt độ sẽ ở mức từ 26 đến 31 C với phần lớn các ngày có mưa nhỏ hoặc không mưa vào những ngày sắp tới. Thời tiết được mong đợi là nắng đẹp và hơi ấm áp. Hãy nhớ mang theo một chiếc ô nếu cần thiết. Tôi hy vọng điều này hữu ích!\\n', role=<ChatRole.ASSISTANT: 'assistant'>, name=None, meta={})], 'meta': [{'model': 'hf.co/janhq/Vistral-7b-Chat-GGUF:Q8_0', 'created_at': '2024-12-29T08:21:55.576232262Z', 'done': False, 'done_reason': None, 'total_duration': None, 'load_duration': None, 'prompt_eval_count': None, 'prompt_eval_duration': None, 'eval_count': None, 'eval_duration': None, 'role': 'assistant'}]}}\n"
     ]
    }
   ],
   "source": [
    "location = \"Thành phố Hồ Chi Minh\"\n",
    "\n",
    "user_message1 = ChatMessage.from_user(\"Thời tiết cùa {{location}} như thế nào trong {{day_count}} ngày tới?\")\n",
    "messages = [system_message, user_message1]\n",
    "res = pipe.run(data={\"prompt_builder\": {\"template_variables\": {\"location\": location, \"day_count\": \"5\"},\n",
    "                                    \"template\": messages}})\n",
    "\n",
    "print(res)"
   ]
  },
  {
   "cell_type": "code",
   "execution_count": 12,
   "metadata": {},
   "outputs": [
    {
     "name": "stdout",
     "output_type": "stream",
     "text": [
      "Đúng, có nhiều món ăn ngon và đa dạng ở thành phố HCM. Một số trong những cái phổ biến nhất bao gồm:\n",
      "1. Phở - một bát phở bò hoặc gà ấm áp được phục vụ với mì gạo mỏng, nước dùng thơm ngon và các loại thảo mộc tươi.\n",
      "2. Bún Bò Huế - súp đậm đà làm từ bún gạo, thịt bò, chả giò và rau củ ăn kèm mắm tôm cay.\n",
      "3. Cơm tấm Sài Gòn - cơm thơm nấu{'llm': {'replies': [ChatMessage(content='Đúng, có nhiều món ăn ngon và đa dạng ở thành phố HCM. Một số trong những cái phổ biến nhất bao gồm:\\n1. Phở - một bát phở bò hoặc gà ấm áp được phục vụ với mì gạo mỏng, nước dùng thơm ngon và các loại thảo mộc tươi.\\n2. Bún Bò Huế - súp đậm đà làm từ bún gạo, thịt bò, chả giò và rau củ ăn kèm mắm tôm cay.\\n3. Cơm tấm Sài Gòn - cơm thơm nấu', role=<ChatRole.ASSISTANT: 'assistant'>, name=None, meta={})], 'meta': [{'model': 'hf.co/janhq/Vistral-7b-Chat-GGUF:Q8_0', 'created_at': '2024-12-29T08:22:01.055821272Z', 'done': False, 'done_reason': None, 'total_duration': None, 'load_duration': None, 'prompt_eval_count': None, 'prompt_eval_duration': None, 'eval_count': None, 'eval_duration': None, 'role': 'assistant'}]}}\n"
     ]
    }
   ],
   "source": [
    "location = \"Thành phố Hồ Chi Minh\"\n",
    "\n",
    "user_message2 = ChatMessage.from_user(\"Có món ăn nào là đặc sản ở {{location}} không?\")\n",
    "messages = [system_message, user_message2]\n",
    "res = pipe.run(data={\"prompt_builder\": {\"template_variables\": {\"location\": location, \"day_count\": \"5\"},\n",
    "                                    \"template\": messages}})\n",
    "\n",
    "print(res)"
   ]
  },
  {
   "cell_type": "code",
   "execution_count": null,
   "metadata": {},
   "outputs": [],
   "source": []
  }
 ],
 "metadata": {
  "kernelspec": {
   "display_name": ".venv",
   "language": "python",
   "name": "python3"
  },
  "language_info": {
   "codemirror_mode": {
    "name": "ipython",
    "version": 3
   },
   "file_extension": ".py",
   "mimetype": "text/x-python",
   "name": "python",
   "nbconvert_exporter": "python",
   "pygments_lexer": "ipython3",
   "version": "3.12.3"
  }
 },
 "nbformat": 4,
 "nbformat_minor": 2
}
