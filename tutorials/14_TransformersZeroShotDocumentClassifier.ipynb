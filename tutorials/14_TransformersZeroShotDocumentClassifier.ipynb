{
 "cells": [
  {
   "cell_type": "markdown",
   "metadata": {},
   "source": [
    "# DocumentLanguageClassifier"
   ]
  },
  {
   "cell_type": "code",
   "execution_count": 1,
   "metadata": {},
   "outputs": [],
   "source": [
    "%load_ext autoreload\n",
    "%autoreload 2"
   ]
  },
  {
   "cell_type": "markdown",
   "metadata": {},
   "source": [
    "## On its own"
   ]
  },
  {
   "cell_type": "code",
   "execution_count": 2,
   "metadata": {},
   "outputs": [],
   "source": [
    "from haystack import Document\n",
    "from haystack.components.classifiers import TransformersZeroShotDocumentClassifier"
   ]
  },
  {
   "cell_type": "code",
   "execution_count": 3,
   "metadata": {},
   "outputs": [],
   "source": [
    "documents = [Document(id=\"0\", content=\"Cats don't get teeth cavities.\"),\n",
    "             Document(id=\"1\", content=\"Cucumbers can be grown in water.\")]"
   ]
  },
  {
   "cell_type": "code",
   "execution_count": 4,
   "metadata": {},
   "outputs": [],
   "source": [
    "document_classifier = TransformersZeroShotDocumentClassifier(\n",
    "    model=\"cross-encoder/nli-deberta-v3-xsmall\",\n",
    "    labels=[\"animals\", \"food\", \"science\"],\n",
    ")"
   ]
  },
  {
   "cell_type": "code",
   "execution_count": 5,
   "metadata": {},
   "outputs": [
    {
     "name": "stderr",
     "output_type": "stream",
     "text": [
      "/mnt/Exdisk/git-cuongpiger/haystack-tutorial/.venv/lib/python3.12/site-packages/transformers/convert_slow_tokenizer.py:561: UserWarning: The sentencepiece tokenizer that you are converting to a fast tokenizer uses the byte fallback option which is not implemented in the fast tokenizers. In practice this means that the fast version of the tokenizer can produce unknown tokens whereas the sentencepiece version would have converted these unknown tokens into a sequence of byte tokens matching the original piece of text.\n",
      "  warnings.warn(\n",
      "Device set to use cuda:0\n"
     ]
    },
    {
     "data": {
      "text/plain": [
       "{'documents': [Document(id=0, content: 'Cats don't get teeth cavities.', meta: {'classification': {'label': 'animals', 'score': 0.9501339197158813, 'details': {'animals': 0.9501339197158813, 'science': 0.040235087275505066, 'food': 0.009631010703742504}}}),\n",
       "  Document(id=1, content: 'Cucumbers can be grown in water.', meta: {'classification': {'label': 'food', 'score': 0.5177573561668396, 'details': {'food': 0.5177573561668396, 'science': 0.4288996756076813, 'animals': 0.05334296077489853}}})]}"
      ]
     },
     "execution_count": 5,
     "metadata": {},
     "output_type": "execute_result"
    }
   ],
   "source": [
    "document_classifier.warm_up()\n",
    "document_classifier.run(documents = documents) "
   ]
  },
  {
   "cell_type": "code",
   "execution_count": 6,
   "metadata": {},
   "outputs": [
    {
     "name": "stdout",
     "output_type": "stream",
     "text": [
      "Document(id=0, content: 'Cats don't get teeth cavities.', meta: {'classification': {'label': 'animals', 'score': 0.9501339197158813, 'details': {'animals': 0.9501339197158813, 'science': 0.040235087275505066, 'food': 0.009631010703742504}}})\n",
      "\n",
      "Document(id=1, content: 'Cucumbers can be grown in water.', meta: {'classification': {'label': 'food', 'score': 0.5177573561668396, 'details': {'food': 0.5177573561668396, 'science': 0.4288996756076813, 'animals': 0.05334296077489853}}})\n",
      "\n"
     ]
    }
   ],
   "source": [
    "for doc in documents:\n",
    "    print(doc)\n",
    "    print()"
   ]
  },
  {
   "cell_type": "markdown",
   "metadata": {},
   "source": [
    "## In pipeline"
   ]
  },
  {
   "cell_type": "code",
   "execution_count": 7,
   "metadata": {},
   "outputs": [],
   "source": [
    "from haystack import Document\n",
    "from haystack.components.retrievers.in_memory import InMemoryBM25Retriever\n",
    "from haystack.document_stores.in_memory import InMemoryDocumentStore\n",
    "from haystack.core.pipeline import Pipeline\n",
    "from haystack.components.classifiers import TransformersZeroShotDocumentClassifier"
   ]
  },
  {
   "cell_type": "code",
   "execution_count": 8,
   "metadata": {},
   "outputs": [],
   "source": [
    "documents = [Document(id=\"0\", content=\"Hôm nay là một ngày tuyệt vời!\"),\n",
    "             Document(id=\"1\", content=\"Ngày hôm qua quả là một ngày tệ hại!\")]"
   ]
  },
  {
   "cell_type": "code",
   "execution_count": 9,
   "metadata": {},
   "outputs": [],
   "source": [
    "document_store = InMemoryDocumentStore()\n",
    "retriever = InMemoryBM25Retriever(document_store=document_store)\n",
    "document_classifier = TransformersZeroShotDocumentClassifier(\n",
    "    model=\"MoritzLaurer/mDeBERTa-v3-base-mnli-xnli\",\n",
    "    labels=[\"tích cực\", \"tiêu cực\"],\n",
    ")"
   ]
  },
  {
   "cell_type": "code",
   "execution_count": 10,
   "metadata": {},
   "outputs": [
    {
     "data": {
      "text/plain": [
       "2"
      ]
     },
     "execution_count": 10,
     "metadata": {},
     "output_type": "execute_result"
    }
   ],
   "source": [
    "document_store.write_documents(documents)"
   ]
  },
  {
   "cell_type": "code",
   "execution_count": 11,
   "metadata": {},
   "outputs": [
    {
     "data": {
      "text/plain": [
       "<haystack.core.pipeline.pipeline.Pipeline object at 0x7d09515c2030>\n",
       "🚅 Components\n",
       "  - retriever: InMemoryBM25Retriever\n",
       "  - document_classifier: TransformersZeroShotDocumentClassifier\n",
       "🛤️ Connections\n",
       "  - retriever.documents -> document_classifier.documents (List[Document])"
      ]
     },
     "execution_count": 11,
     "metadata": {},
     "output_type": "execute_result"
    }
   ],
   "source": [
    "pipeline = Pipeline()\n",
    "pipeline.add_component(instance=retriever, name=\"retriever\")\n",
    "pipeline.add_component(instance=document_classifier, name=\"document_classifier\")\n",
    "pipeline.connect(\"retriever\", \"document_classifier\")"
   ]
  },
  {
   "cell_type": "code",
   "execution_count": 12,
   "metadata": {},
   "outputs": [],
   "source": [
    "queries = [\"Ngày hôm nay thế nào?\", \"Ngày hôm qua của bạn như thế nào?\"]\n",
    "expected_predictions = [\"tích cực\", \"tiêu cực\"]"
   ]
  },
  {
   "cell_type": "code",
   "execution_count": 13,
   "metadata": {},
   "outputs": [
    {
     "name": "stderr",
     "output_type": "stream",
     "text": [
      "Device set to use cuda:0\n"
     ]
    },
    {
     "name": "stdout",
     "output_type": "stream",
     "text": [
      "{'document_classifier': {'documents': [Document(id=0, content: 'Hôm nay là một ngày tuyệt vời!', meta: {'classification': {'label': 'tích cực', 'score': 0.998790979385376, 'details': {'tích cực': 0.998790979385376, 'tiêu cực': 0.0012090412201359868}}}, score: 1.2328974712196277)]}}\n",
      "{'document_classifier': {'documents': [Document(id=1, content: 'Ngày hôm qua quả là một ngày tệ hại!', meta: {'classification': {'label': 'tiêu cực', 'score': 0.9993325471878052, 'details': {'tiêu cực': 0.9993325471878052, 'tích cực': 0.0006674606702290475}}}, score: 1.2042055389754964)]}}\n"
     ]
    }
   ],
   "source": [
    "for idx, query in enumerate(queries):\n",
    "    result = pipeline.run({\"retriever\": {\"query\": query, \"top_k\": 1}})\n",
    "    print(result)\n",
    "    assert result[\"document_classifier\"][\"documents\"][0].to_dict()[\"id\"] == str(idx)\n",
    "    assert (result[\"document_classifier\"][\"documents\"][0].to_dict()[\"classification\"][\"label\"]\n",
    "            == expected_predictions[idx])"
   ]
  },
  {
   "cell_type": "code",
   "execution_count": null,
   "metadata": {},
   "outputs": [],
   "source": []
  }
 ],
 "metadata": {
  "kernelspec": {
   "display_name": ".venv",
   "language": "python",
   "name": "python3"
  },
  "language_info": {
   "codemirror_mode": {
    "name": "ipython",
    "version": 3
   },
   "file_extension": ".py",
   "mimetype": "text/x-python",
   "name": "python",
   "nbconvert_exporter": "python",
   "pygments_lexer": "ipython3",
   "version": "3.12.3"
  }
 },
 "nbformat": 4,
 "nbformat_minor": 2
}
