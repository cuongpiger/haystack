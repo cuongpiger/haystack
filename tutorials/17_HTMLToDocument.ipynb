{
 "cells": [
  {
   "cell_type": "markdown",
   "metadata": {},
   "source": [
    "# `HTMLToDocument`\n"
   ]
  },
  {
   "cell_type": "code",
   "execution_count": 1,
   "metadata": {},
   "outputs": [],
   "source": [
    "%load_ext autoreload\n",
    "%autoreload 2"
   ]
  },
  {
   "cell_type": "markdown",
   "metadata": {},
   "source": [
    "## On its own\n"
   ]
  },
  {
   "cell_type": "code",
   "execution_count": 2,
   "metadata": {},
   "outputs": [],
   "source": [
    "from pathlib import Path\n",
    "from haystack.components.converters import HTMLToDocument"
   ]
  },
  {
   "cell_type": "code",
   "execution_count": 3,
   "metadata": {},
   "outputs": [],
   "source": [
    "converter = HTMLToDocument()"
   ]
  },
  {
   "cell_type": "code",
   "execution_count": 4,
   "metadata": {},
   "outputs": [],
   "source": [
    "docs = converter.run(sources=[Path(\"sample.html\")])"
   ]
  },
  {
   "cell_type": "code",
   "execution_count": 5,
   "metadata": {},
   "outputs": [
    {
     "name": "stdout",
     "output_type": "stream",
     "text": [
      "{'documents': [Document(id=dc99820f61d2e9d012e89462cc1586cdc81654abdb859c607d09b317e26051b9, content: 'What is VKS?\n",
      "VKS (VNGCloud Kubernetes Service) is a managed service on VNGCloud that simplifies the ...', meta: {'file_path': 'sample.html'})]}\n"
     ]
    }
   ],
   "source": [
    "print(docs)"
   ]
  },
  {
   "cell_type": "code",
   "execution_count": 6,
   "metadata": {},
   "outputs": [
    {
     "data": {
      "text/plain": [
       "'What is VKS?\\nVKS (VNGCloud Kubernetes Service) is a managed service on VNGCloud that simplifies the deployment and management of container-based applications. Kubernetes, an open-source platform developed by Google, is widely used to manage and deploy containerized applications in distributed environments.\\nHighlights of VKS\\nFully Managed control plane: VKS will free you from the burden of managing the Kubernetes Control Plane, allowing you to focus on developing applications.\\nSupport for the latest Kubernetes versions: VKS is always updating to the latest Kubernetes versions (minor versions from 1.27, 1.28, 1.29) to ensure you can take advantage of the most advanced features.\\nKubernetes Networking: VKS integrates Calico CNI, providing high efficiency and security.\\nUpgrade seamlessly: VKS supports easy and fast upgrades between Kubernetes versions, helping you stay updated with the latest improvements.\\nScaling & Healing Automatically: VKS automatically scales the Node group when needed and repairs issues when nodes encounter problems, saving you time and effort in management.\\nReduce costs and enhance reliability: VKS deploys the Kubernetes Control Plane in a highly available mode and completely for free, helping you save costs and improve system reliability.\\nIntegration of Native Blockstore (Container Storage Interface - CSI): VKS allows you to manage Blockstore through Kubernetes YAML, providing persistent storage for containers and supporting important features such as resizing, changing IOPS, and snapshotting volumes.\\nIntegration of Load Balancer (Network Load Balancer, Application Load Balancer) through built-in drivers such as VNGCloud Controller Manager, VNGCloud Ingress Controller: VKS provides the capability to manage NLB/ALB through Kubernetes YAML, making it easy to expose Services in Kubernetes to the outside.\\nEnhanced security: VKS allows you to create Private Node Groups with only Private IPs and control access to the cluster via the IP Whitelist feature, ensuring the safety of your system.\\nIn addition, VKS has the following advantages:\\nEasy to use: VKS provides a simple and user-friendly interface.\\nAffordable pricing: VKS offers competitive pricing for its services.\\nLast updated'"
      ]
     },
     "execution_count": 6,
     "metadata": {},
     "output_type": "execute_result"
    }
   ],
   "source": [
    "docs['documents'][0].content"
   ]
  },
  {
   "cell_type": "markdown",
   "metadata": {},
   "source": [
    "## In pipeline\n"
   ]
  },
  {
   "cell_type": "code",
   "execution_count": 7,
   "metadata": {},
   "outputs": [],
   "source": [
    "from haystack import Pipeline\n",
    "from haystack.document_stores.in_memory import InMemoryDocumentStore\n",
    "from haystack.components.converters import HTMLToDocument\n",
    "from haystack.components.preprocessors import DocumentCleaner\n",
    "from haystack.components.preprocessors import DocumentSplitter\n",
    "from haystack.components.writers import DocumentWriter"
   ]
  },
  {
   "cell_type": "code",
   "execution_count": 8,
   "metadata": {},
   "outputs": [],
   "source": [
    "document_store = InMemoryDocumentStore()"
   ]
  },
  {
   "cell_type": "code",
   "execution_count": 9,
   "metadata": {},
   "outputs": [
    {
     "data": {
      "text/plain": [
       "<haystack.core.pipeline.pipeline.Pipeline object at 0x7209f8b8ae10>\n",
       "🚅 Components\n",
       "  - converter: HTMLToDocument\n",
       "  - cleaner: DocumentCleaner\n",
       "  - splitter: DocumentSplitter\n",
       "  - writer: DocumentWriter\n",
       "🛤️ Connections\n",
       "  - converter.documents -> cleaner.documents (List[Document])\n",
       "  - cleaner.documents -> splitter.documents (List[Document])\n",
       "  - splitter.documents -> writer.documents (List[Document])"
      ]
     },
     "execution_count": 9,
     "metadata": {},
     "output_type": "execute_result"
    }
   ],
   "source": [
    "pipeline = Pipeline()\n",
    "\n",
    "pipeline.add_component(\"converter\", HTMLToDocument())\n",
    "pipeline.add_component(\"cleaner\", DocumentCleaner())\n",
    "pipeline.add_component(\"splitter\", DocumentSplitter(split_by=\"sentence\", split_length=5))\n",
    "pipeline.add_component(\"writer\", DocumentWriter(document_store=document_store))\n",
    "\n",
    "pipeline.connect(\"converter\", \"cleaner\")\n",
    "pipeline.connect(\"cleaner\", \"splitter\")\n",
    "pipeline.connect(\"splitter\", \"writer\")"
   ]
  },
  {
   "cell_type": "code",
   "execution_count": 10,
   "metadata": {},
   "outputs": [],
   "source": [
    "file_names = [\"sample.html\"]\n",
    "res = pipeline.run({\"converter\": {\"sources\": file_names}})"
   ]
  },
  {
   "cell_type": "code",
   "execution_count": 11,
   "metadata": {},
   "outputs": [
    {
     "data": {
      "text/plain": [
       "{'writer': {'documents_written': 4}}"
      ]
     },
     "execution_count": 11,
     "metadata": {},
     "output_type": "execute_result"
    }
   ],
   "source": [
    "res"
   ]
  },
  {
   "cell_type": "code",
   "execution_count": 12,
   "metadata": {},
   "outputs": [
    {
     "name": "stdout",
     "output_type": "stream",
     "text": [
      "Content: What is VKS?\n",
      "VKS (VNGCloud Kubernetes Service) is a managed service on VNGCloud that simplifies the deployment and management of container-based applications. Kubernetes, an open-source platform developed by Google, is widely used to manage and deploy containerized applications in distributed environments.\n",
      "Highlights of VKS\n",
      "Fully Managed control plane: VKS will free you from the burden of managing the Kubernetes Control Plane, allowing you to focus on developing applications.\n",
      "Support for the latest Kubernetes versions: VKS is always updating to the latest Kubernetes versions (minor versions from 1.27, 1.\n",
      "Length 611\n",
      "========================\n",
      "\n",
      "Content: 28, 1.29) to ensure you can take advantage of the most advanced features.\n",
      "Kubernetes Networking: VKS integrates Calico CNI, providing high efficiency and security.\n",
      "Upgrade seamlessly: VKS supports easy and fast upgrades between Kubernetes versions, helping you stay updated with the latest improvements.\n",
      "Scaling & Healing Automatically: VKS automatically scales the Node group when needed and repairs issues when nodes encounter problems, saving you time and effort in management.\n",
      "Length 480\n",
      "========================\n",
      "\n",
      "Content: \n",
      "Reduce costs and enhance reliability: VKS deploys the Kubernetes Control Plane in a highly available mode and completely for free, helping you save costs and improve system reliability.\n",
      "Integration of Native Blockstore (Container Storage Interface - CSI): VKS allows you to manage Blockstore through Kubernetes YAML, providing persistent storage for containers and supporting important features such as resizing, changing IOPS, and snapshotting volumes.\n",
      "Integration of Load Balancer (Network Load Balancer, Application Load Balancer) through built-in drivers such as VNGCloud Controller Manager, VNGCloud Ingress Controller: VKS provides the capability to manage NLB/ALB through Kubernetes YAML, making it easy to expose Services in Kubernetes to the outside.\n",
      "Enhanced security: VKS allows you to create Private Node Groups with only Private IPs and control access to the cluster via the IP Whitelist feature, ensuring the safety of your system.\n",
      "In addition, VKS has the following advantages:\n",
      "Easy to use: VKS provides a simple and user-friendly interface.\n",
      "Length 1057\n",
      "========================\n",
      "\n",
      "Content: \n",
      "Affordable pricing: VKS offers competitive pricing for its services.\n",
      "Last updated\n",
      "Length 82\n",
      "========================\n",
      "\n"
     ]
    }
   ],
   "source": [
    "for doc in document_store.filter_documents():\n",
    "    print(f\"Content: {doc.content}\\nLength {len(doc.content)}\", end=\"\\n========================\\n\\n\")"
   ]
  },
  {
   "cell_type": "code",
   "execution_count": null,
   "metadata": {},
   "outputs": [],
   "source": []
  }
 ],
 "metadata": {
  "kernelspec": {
   "display_name": ".venv",
   "language": "python",
   "name": "python3"
  },
  "language_info": {
   "codemirror_mode": {
    "name": "ipython",
    "version": 3
   },
   "file_extension": ".py",
   "mimetype": "text/x-python",
   "name": "python",
   "nbconvert_exporter": "python",
   "pygments_lexer": "ipython3",
   "version": "3.12.3"
  }
 },
 "nbformat": 4,
 "nbformat_minor": 2
}
