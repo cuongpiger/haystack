{
 "cells": [
  {
   "cell_type": "markdown",
   "metadata": {},
   "source": [
    "# `DOCXToDocument`"
   ]
  },
  {
   "cell_type": "code",
   "execution_count": 1,
   "metadata": {},
   "outputs": [],
   "source": [
    "%load_ext autoreload\n",
    "%autoreload 2"
   ]
  },
  {
   "cell_type": "markdown",
   "metadata": {},
   "source": [
    "## On its own"
   ]
  },
  {
   "cell_type": "code",
   "execution_count": 2,
   "metadata": {},
   "outputs": [],
   "source": [
    "from haystack.components.converters.docx import DOCXToDocument, DOCXTableFormat\n",
    "from datetime import datetime"
   ]
  },
  {
   "cell_type": "code",
   "execution_count": 3,
   "metadata": {},
   "outputs": [],
   "source": [
    "converter = DOCXToDocument()\n",
    "# or define the table format\n",
    "converter = DOCXToDocument(table_format=DOCXTableFormat.CSV)"
   ]
  },
  {
   "cell_type": "code",
   "execution_count": 4,
   "metadata": {},
   "outputs": [],
   "source": [
    "results = converter.run(sources=[\"sample.docx\"], meta={\"date_added\": datetime.now().isoformat()})\n",
    "documents = results[\"documents\"]"
   ]
  },
  {
   "cell_type": "code",
   "execution_count": 5,
   "metadata": {},
   "outputs": [
    {
     "name": "stdout",
     "output_type": "stream",
     "text": [
      "Sample Document\n",
      "This document was created using accessibility techniques for headings, lists, image alternate text, tables, and columns. It should be completely accessible using assistive technologies such as screen readers.\n",
      "Headings\n",
      "There are eight section headings in this document. At the beginning, \"Sample Document\" is a level 1 heading. The main section headings, such as \"Headings\" and \"Lists\" are level 2 headings. The Tables section contains two sub-headings, \"Simple Table\" and \"Complex Table,\" which are both level 3 headings.\n",
      "Lists\n",
      "The following outline of the sections of this document is an ordered (numbered) list with six items. The fifth item, \"Tables,\" contains a nested unordered (bulleted) list with two items.\n",
      "Headings \n",
      "Lists \n",
      "Links \n",
      "Images \n",
      "Tables \n",
      "Simple Tables \n",
      "Complex Tables \n",
      "Columns \n",
      "Links\n",
      "In web documents, links can point different locations on the page, different pages, or even downloadable documents, such as Word documents or PDFs:\n",
      "Top of this Page\n",
      "Sample Document\n",
      "Sample Document (docx)\n",
      "Images\n",
      "Documents may contain images. For example, there is an image of the web accessibility symbol to the left of this paragraph. Its alternate text is \"Web Access Symbol\".\n",
      "Alt text should communicate what an image means, not how it looks.\n",
      "\n",
      "\fSome images, such as charts or graphs, require long descriptions, but not all document types allow that. In web pages, long descriptions may be provided in several ways: on the page below the image, via a link below the image, or via a link on the image.\n",
      "\n",
      "Tables\n",
      "Simple Tables\n",
      "Simple tables have a uniform number of columns and rows, without any merged cells:\n",
      "Screen Reader,Responses,Share\n",
      "JAWS,853,49%\n",
      "NVDA,238,14%\n",
      "Window-Eyes,214,12%\n",
      "System Access,181,10%\n",
      "VoiceOver,159,9%\n",
      "\n",
      "Complex Tables\n",
      "The following is a complex table, using merged cells as headers for sections within the table. This can't be made accessible in all types of documents:\n",
      ",May 2012,May 2012,September 2010,September 2010\n",
      "Screen Reader,Responses,Share,Responses,Share\n",
      "JAWS,853,49%,727,59%\n",
      "NVDA,238,14%,105,9%\n",
      "Window-Eyes,214,12%,138,11%\n",
      "System Access,181,10%,58,5%\n",
      "VoiceOver,159,9%,120,10%\n",
      " \n",
      "Columns\n",
      "\n",
      "\fThis is an example of columns. With columns, the page is split into two or more horizontal sections. Unlike tables, in which you usually read across a row and then down to the next, in columns, you read down a column and then across to the next.When columns are not created correctly, screen readers may run lines together, reading the first line of the first column, then the first line of the second column, then the second line of the first column, and so on. Obviously, that is not accessible.\f\n"
     ]
    }
   ],
   "source": [
    "print(documents[0].content)"
   ]
  },
  {
   "cell_type": "code",
   "execution_count": 6,
   "metadata": {},
   "outputs": [
    {
     "data": {
      "text/plain": [
       "[Document(id=90ce147c1c802e5d9146deeb539604917f1b5aa83a5f8b2f222743cfd414bec0, content: 'Sample Document\n",
       " This document was created using accessibility techniques for headings, lists, image ...', meta: {'file_path': 'sample.docx', 'date_added': '2024-12-30T10:27:34.994496', 'docx': DOCXMetadata(author='Mike Scott', category='', comments='', content_status='', created='2016-12-06T21:20:00+00:00', identifier='', keywords='', language='', last_modified_by='Mike Scott', last_printed=None, modified='2016-12-06T22:10:00+00:00', revision=3, subject='', title='', version='')})]"
      ]
     },
     "execution_count": 6,
     "metadata": {},
     "output_type": "execute_result"
    }
   ],
   "source": [
    "documents"
   ]
  },
  {
   "cell_type": "markdown",
   "metadata": {},
   "source": [
    "## In pipeline"
   ]
  },
  {
   "cell_type": "code",
   "execution_count": 7,
   "metadata": {},
   "outputs": [],
   "source": [
    "from haystack import Pipeline\n",
    "from haystack.document_stores.in_memory import InMemoryDocumentStore\n",
    "from haystack.components.converters import DOCXToDocument\n",
    "from haystack.components.preprocessors import DocumentCleaner\n",
    "from haystack.components.preprocessors import DocumentSplitter\n",
    "from haystack.components.writers import DocumentWriter"
   ]
  },
  {
   "cell_type": "code",
   "execution_count": 8,
   "metadata": {},
   "outputs": [],
   "source": [
    "document_store = InMemoryDocumentStore()"
   ]
  },
  {
   "cell_type": "code",
   "execution_count": 9,
   "metadata": {},
   "outputs": [
    {
     "data": {
      "text/plain": [
       "<haystack.core.pipeline.pipeline.Pipeline object at 0x7e5586ff24e0>\n",
       "🚅 Components\n",
       "  - converter: DOCXToDocument\n",
       "  - cleaner: DocumentCleaner\n",
       "  - splitter: DocumentSplitter\n",
       "  - writer: DocumentWriter\n",
       "🛤️ Connections\n",
       "  - converter.documents -> cleaner.documents (List[Document])\n",
       "  - cleaner.documents -> splitter.documents (List[Document])\n",
       "  - splitter.documents -> writer.documents (List[Document])"
      ]
     },
     "execution_count": 9,
     "metadata": {},
     "output_type": "execute_result"
    }
   ],
   "source": [
    "pipeline = Pipeline()\n",
    "\n",
    "pipeline.add_component(\"converter\", DOCXToDocument())\n",
    "pipeline.add_component(\"cleaner\", DocumentCleaner())\n",
    "pipeline.add_component(\"splitter\", DocumentSplitter(split_by=\"sentence\", split_length=5))\n",
    "pipeline.add_component(\"writer\", DocumentWriter(document_store=document_store))\n",
    "\n",
    "pipeline.connect(\"converter\", \"cleaner\")\n",
    "pipeline.connect(\"cleaner\", \"splitter\")\n",
    "pipeline.connect(\"splitter\", \"writer\")"
   ]
  },
  {
   "cell_type": "code",
   "execution_count": 10,
   "metadata": {},
   "outputs": [],
   "source": [
    "file_names = [\"sample.docx\"]\n",
    "res = pipeline.run({\"converter\": {\"sources\": file_names}})"
   ]
  },
  {
   "cell_type": "code",
   "execution_count": 11,
   "metadata": {},
   "outputs": [
    {
     "data": {
      "text/plain": [
       "{'writer': {'documents_written': 5}}"
      ]
     },
     "execution_count": 11,
     "metadata": {},
     "output_type": "execute_result"
    }
   ],
   "source": [
    "res"
   ]
  },
  {
   "cell_type": "code",
   "execution_count": 12,
   "metadata": {},
   "outputs": [
    {
     "name": "stdout",
     "output_type": "stream",
     "text": [
      "Content: Sample Document\n",
      "This document was created using accessibility techniques for headings, lists, image alternate text, tables, and columns. It should be completely accessible using assistive technologies such as screen readers.\n",
      "Headings\n",
      "There are eight section headings in this document. At the beginning, \"Sample Document\" is a level 1 heading. The main section headings, such as \"Headings\" and \"Lists\" are level 2 headings.\n",
      "Length 422\n",
      "========================\n",
      "\n",
      "Content:  The Tables section contains two sub-headings, \"Simple Table\" and \"Complex Table,\" which are both level 3 headings.\n",
      "Lists\n",
      "The following outline of the sections of this document is an ordered (numbered) list with six items. The fifth item, \"Tables,\" contains a nested unordered (bulleted) list with two items.\n",
      "Headings Lists Links Images Tables Simple Tables Complex Tables Columns Links\n",
      "In web documents, links can point different locations on the page, different pages, or even downloadable documents, such as Word documents or PDFs:\n",
      "Top of this Page\n",
      "Sample Document\n",
      "Sample Document (docx)\n",
      "Images\n",
      "Documents may contain images. For example, there is an image of the web accessibility symbol to the left of this paragraph.\n",
      "Length 721\n",
      "========================\n",
      "\n",
      "Content:  Its alternate text is \"Web Access Symbol\".\n",
      "Alt text should communicate what an image means, not how it looks.\fSome images, such as charts or graphs, require long descriptions, but not all document types allow that. In web pages, long descriptions may be provided in several ways: on the page below the image, via a link below the image, or via a link on the image. Tables\n",
      "Simple Tables\n",
      "Simple tables have a uniform number of columns and rows, without any merged cells:\n",
      "Screen Reader,Responses,Share JAWS,853,49% NVDA,238,14% Window-Eyes,214,12% System Access,181,10% VoiceOver,159,9% Complex Tables\n",
      "The following is a complex table, using merged cells as headers for sections within the table.\n",
      "Length 694\n",
      "========================\n",
      "\n",
      "Content:  This can't be made accessible in all types of documents:\n",
      ",May 2012,May 2012,September 2010,September 2010 Screen Reader,Responses,Share,Responses,Share JAWS,853,49%,727,59% NVDA,238,14%,105,9% Window-Eyes,214,12%,138,11% System Access,181,10%,58,5% VoiceOver,159,9%,120,10% Columns\fThis is an example of columns. With columns, the page is split into two or more horizontal sections. Unlike tables, in which you usually read across a row and then down to the next, in columns, you read down a column and then across to the next.When columns are not created correctly, screen readers may run lines together, reading the first line of the first column, then the first line of the second column, then the second line of the first column, and so on. Obviously, that is not accessible.\n",
      "Length 780\n",
      "========================\n",
      "\n",
      "Content: \f\n",
      "Length 1\n",
      "========================\n",
      "\n"
     ]
    }
   ],
   "source": [
    "for doc in document_store.filter_documents():\n",
    "    print(f\"Content: {doc.content}\\nLength {len(doc.content)}\", end=\"\\n========================\\n\\n\")"
   ]
  },
  {
   "cell_type": "code",
   "execution_count": null,
   "metadata": {},
   "outputs": [],
   "source": []
  }
 ],
 "metadata": {
  "kernelspec": {
   "display_name": ".venv",
   "language": "python",
   "name": "python3"
  },
  "language_info": {
   "codemirror_mode": {
    "name": "ipython",
    "version": 3
   },
   "file_extension": ".py",
   "mimetype": "text/x-python",
   "name": "python",
   "nbconvert_exporter": "python",
   "pygments_lexer": "ipython3",
   "version": "3.12.3"
  }
 },
 "nbformat": 4,
 "nbformat_minor": 2
}
