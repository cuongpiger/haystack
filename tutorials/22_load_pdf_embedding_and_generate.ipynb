{
 "cells": [
  {
   "cell_type": "markdown",
   "metadata": {},
   "source": [
    "# `VKS document with llama3`\n"
   ]
  },
  {
   "cell_type": "code",
   "execution_count": 1,
   "metadata": {},
   "outputs": [],
   "source": [
    "%load_ext autoreload\n",
    "%autoreload 2"
   ]
  },
  {
   "cell_type": "markdown",
   "metadata": {},
   "source": [
    "## On its own\n"
   ]
  },
  {
   "cell_type": "code",
   "execution_count": 2,
   "metadata": {},
   "outputs": [],
   "source": [
    "from haystack import Pipeline\n",
    "from haystack.document_stores.in_memory import InMemoryDocumentStore\n",
    "from haystack.components.converters import PDFMinerToDocument\n",
    "from haystack.components.preprocessors import DocumentCleaner\n",
    "from haystack.components.preprocessors import DocumentSplitter\n",
    "from haystack.components.writers import DocumentWriter"
   ]
  },
  {
   "cell_type": "code",
   "execution_count": 3,
   "metadata": {},
   "outputs": [
    {
     "data": {
      "text/plain": [
       "<haystack.core.pipeline.pipeline.Pipeline object at 0x79c9108ef140>\n",
       "🚅 Components\n",
       "  - converter: PDFMinerToDocument\n",
       "  - cleaner: DocumentCleaner\n",
       "  - splitter: DocumentSplitter\n",
       "  - writer: DocumentWriter\n",
       "🛤️ Connections\n",
       "  - converter.documents -> cleaner.documents (List[Document])\n",
       "  - cleaner.documents -> splitter.documents (List[Document])\n",
       "  - splitter.documents -> writer.documents (List[Document])"
      ]
     },
     "execution_count": 3,
     "metadata": {},
     "output_type": "execute_result"
    }
   ],
   "source": [
    "raw_document_store = InMemoryDocumentStore(embedding_similarity_function=\"cosine\")\n",
    "\n",
    "pipeline = Pipeline()\n",
    "pipeline.add_component(\"converter\", PDFMinerToDocument())\n",
    "pipeline.add_component(\"cleaner\", DocumentCleaner())\n",
    "pipeline.add_component(\"splitter\", DocumentSplitter(split_by=\"sentence\", split_length=20, split_overlap=15))\n",
    "pipeline.add_component(\"writer\", DocumentWriter(document_store=raw_document_store))\n",
    "\n",
    "pipeline.connect(\"converter\", \"cleaner\")\n",
    "pipeline.connect(\"cleaner\", \"splitter\")\n",
    "pipeline.connect(\"splitter\", \"writer\")"
   ]
  },
  {
   "cell_type": "code",
   "execution_count": 4,
   "metadata": {},
   "outputs": [
    {
     "data": {
      "text/plain": [
       "{'writer': {'documents_written': 687}}"
      ]
     },
     "execution_count": 4,
     "metadata": {},
     "output_type": "execute_result"
    }
   ],
   "source": [
    "file_names = [\"sample.pdf\"]\n",
    "pipeline.run({\"converter\": {\"sources\": file_names}})"
   ]
  },
  {
   "cell_type": "code",
   "execution_count": 5,
   "metadata": {},
   "outputs": [],
   "source": [
    "from haystack.components.embedders import SentenceTransformersDocumentEmbedder"
   ]
  },
  {
   "cell_type": "code",
   "execution_count": 6,
   "metadata": {},
   "outputs": [],
   "source": [
    "document_store = InMemoryDocumentStore(embedding_similarity_function=\"cosine\")"
   ]
  },
  {
   "cell_type": "markdown",
   "metadata": {},
   "source": [
    "Initalize a Document Embedder"
   ]
  },
  {
   "cell_type": "code",
   "execution_count": 7,
   "metadata": {},
   "outputs": [],
   "source": [
    "doc_embedder = SentenceTransformersDocumentEmbedder(model=\"sentence-transformers/all-MiniLM-L6-v2\")\n",
    "doc_embedder.warm_up()"
   ]
  },
  {
   "cell_type": "code",
   "execution_count": 8,
   "metadata": {},
   "outputs": [
    {
     "data": {
      "application/vnd.jupyter.widget-view+json": {
       "model_id": "8bc36310583c402e8a4fa152ca7a0556",
       "version_major": 2,
       "version_minor": 0
      },
      "text/plain": [
       "Batches:   0%|          | 0/22 [00:00<?, ?it/s]"
      ]
     },
     "metadata": {},
     "output_type": "display_data"
    },
    {
     "data": {
      "text/plain": [
       "687"
      ]
     },
     "execution_count": 8,
     "metadata": {},
     "output_type": "execute_result"
    }
   ],
   "source": [
    "docs_with_embeddings = doc_embedder.run(raw_document_store.filter_documents())\n",
    "document_store.write_documents(docs_with_embeddings[\"documents\"])"
   ]
  },
  {
   "cell_type": "code",
   "execution_count": 9,
   "metadata": {},
   "outputs": [],
   "source": [
    "from haystack.components.embedders import SentenceTransformersTextEmbedder\n",
    "from haystack.components.builders import ChatPromptBuilder\n",
    "from haystack.dataclasses import ChatMessage\n",
    "from haystack_integrations.components.generators.ollama import OllamaChatGenerator\n",
    "from haystack.components.retrievers.in_memory import InMemoryEmbeddingRetriever"
   ]
  },
  {
   "cell_type": "code",
   "execution_count": 10,
   "metadata": {},
   "outputs": [],
   "source": [
    "text_embedder = SentenceTransformersTextEmbedder(model=\"sentence-transformers/all-MiniLM-L6-v2\")"
   ]
  },
  {
   "cell_type": "code",
   "execution_count": 11,
   "metadata": {},
   "outputs": [],
   "source": [
    "template = [ChatMessage.from_user(\"\"\"\n",
    "Given the following information, answer the question.\n",
    "\n",
    "Context:\n",
    "{% for document in documents %}\n",
    "    {{ document.content }}\n",
    "{% endfor %}\n",
    "\n",
    "Question: {{question}}\n",
    "Answer:\n",
    "\"\"\")]\n",
    "\n",
    "prompt_builder = ChatPromptBuilder(template=template)"
   ]
  },
  {
   "cell_type": "code",
   "execution_count": 12,
   "metadata": {},
   "outputs": [],
   "source": [
    "chat_generator = OllamaChatGenerator(\n",
    "    model=\"llama3.1:8b\",\n",
    "    streaming_callback=lambda chunk: print(chunk.content, end=\"\", flush=True),\n",
    "    url = \"http://localhost:11434\",\n",
    "    generation_kwargs={\n",
    "        \"num_predict\": 100,\n",
    "        \"temperature\": 0.9})"
   ]
  },
  {
   "cell_type": "markdown",
   "metadata": {},
   "source": [
    "Initialize retriever"
   ]
  },
  {
   "cell_type": "code",
   "execution_count": 13,
   "metadata": {},
   "outputs": [],
   "source": [
    "retriever = InMemoryEmbeddingRetriever(document_store)"
   ]
  },
  {
   "cell_type": "code",
   "execution_count": 14,
   "metadata": {},
   "outputs": [],
   "source": [
    "basic_rag_pipeline = Pipeline()\n",
    "# Add components to your pipeline\n",
    "basic_rag_pipeline.add_component(\"text_embedder\", text_embedder)\n",
    "basic_rag_pipeline.add_component(\"retriever\", retriever)\n",
    "basic_rag_pipeline.add_component(\"prompt_builder\", prompt_builder)\n",
    "basic_rag_pipeline.add_component(\"llm\", chat_generator)"
   ]
  },
  {
   "cell_type": "code",
   "execution_count": 15,
   "metadata": {},
   "outputs": [
    {
     "data": {
      "text/plain": [
       "<haystack.core.pipeline.pipeline.Pipeline object at 0x79c77afa7710>\n",
       "🚅 Components\n",
       "  - text_embedder: SentenceTransformersTextEmbedder\n",
       "  - retriever: InMemoryEmbeddingRetriever\n",
       "  - prompt_builder: ChatPromptBuilder\n",
       "  - llm: OllamaChatGenerator\n",
       "🛤️ Connections\n",
       "  - text_embedder.embedding -> retriever.query_embedding (List[float])\n",
       "  - retriever.documents -> prompt_builder.documents (List[Document])\n",
       "  - prompt_builder.prompt -> llm.messages (List[ChatMessage])"
      ]
     },
     "execution_count": 15,
     "metadata": {},
     "output_type": "execute_result"
    }
   ],
   "source": [
    "# Now, connect the components to each other\n",
    "basic_rag_pipeline.connect(\"text_embedder.embedding\", \"retriever.query_embedding\")\n",
    "basic_rag_pipeline.connect(\"retriever\", \"prompt_builder\")\n",
    "basic_rag_pipeline.connect(\"prompt_builder.prompt\", \"llm.messages\")"
   ]
  },
  {
   "cell_type": "markdown",
   "metadata": {},
   "source": [
    "# Asking question"
   ]
  },
  {
   "cell_type": "code",
   "execution_count": 16,
   "metadata": {},
   "outputs": [
    {
     "data": {
      "application/vnd.jupyter.widget-view+json": {
       "model_id": "6fe5bb2e547140499ba58f1565fab3ac",
       "version_major": 2,
       "version_minor": 0
      },
      "text/plain": [
       "Batches:   0%|          | 0/1 [00:00<?, ?it/s]"
      ]
     },
     "metadata": {},
     "output_type": "display_data"
    },
    {
     "name": "stdout",
     "output_type": "stream",
     "text": [
      "VKS stands for VNGCloud Kubernetes Service. It appears to be a cloud-based platform that provides managed Kubernetes services, allowing users to create and manage clusters, nodes, volumes, load balancers, and other resources. VKS offers various features such as monitoring, event history, re-activation of default IAM service accounts, and garbage collection of unused containers and images.\n",
      "\n",
      "\n",
      "\n",
      "\n",
      "==========================\n",
      "Answer: VKS stands for VNGCloud Kubernetes Service. It appears to be a cloud-based platform that provides managed Kubernetes services, allowing users to create and manage clusters, nodes, volumes, load balancers, and other resources. VKS offers various features such as monitoring, event history, re-activation of default IAM service accounts, and garbage collection of unused containers and images.\n"
     ]
    }
   ],
   "source": [
    "question = \"What is VKS?\"\n",
    "\n",
    "response = basic_rag_pipeline.run({\"text_embedder\": {\"text\": question}, \"prompt_builder\": {\"question\": question}})\n",
    "\n",
    "print(f\"\\n\\n\\n\\n\\n==========================\\nAnswer: {response[\"llm\"][\"replies\"][0].text}\")"
   ]
  },
  {
   "cell_type": "code",
   "execution_count": 17,
   "metadata": {},
   "outputs": [
    {
     "data": {
      "application/vnd.jupyter.widget-view+json": {
       "model_id": "a529f2c5c096451f8fa605fc5cf7d8bd",
       "version_major": 2,
       "version_minor": 0
      },
      "text/plain": [
       "Batches:   0%|          | 0/1 [00:00<?, ?it/s]"
      ]
     },
     "metadata": {},
     "output_type": "display_data"
    },
    {
     "name": "stdout",
     "output_type": "stream",
     "text": [
      "Here's a comparison of VKS (Virtual Kubernetes Service) private clusters and public clusters:\n",
      "\n",
      "**Security**\n",
      "\n",
      "* Private Cluster: Provides higher security with all connections within VNG Cloud's private network, minimizing the risk of external network attacks.\n",
      "* Public Cluster: Offers medium security as it uses public IP addresses to communicate between nodes and control plane.\n",
      "\n",
      "**Access Management**\n",
      "\n",
      "* Private Cluster: Offers strict access control through VNG Cloud's internal network.\n",
      "* Public Cluster: Allows easier access from anywhere with internet but\n",
      "\n",
      "\n",
      "\n",
      "\n",
      "\n",
      "\n",
      "================\n",
      "Answer: Here's a comparison of VKS (Virtual Kubernetes Service) private clusters and public clusters:\n",
      "\n",
      "**Security**\n",
      "\n",
      "* Private Cluster: Provides higher security with all connections within VNG Cloud's private network, minimizing the risk of external network attacks.\n",
      "* Public Cluster: Offers medium security as it uses public IP addresses to communicate between nodes and control plane.\n",
      "\n",
      "**Access Management**\n",
      "\n",
      "* Private Cluster: Offers strict access control through VNG Cloud's internal network.\n",
      "* Public Cluster: Allows easier access from anywhere with internet but\n"
     ]
    }
   ],
   "source": [
    "question = \"Compare VKS private clusters and VKS public clusters\"\n",
    "\n",
    "response = basic_rag_pipeline.run({\"text_embedder\": {\"text\": question}, \"prompt_builder\": {\"question\": question}})\n",
    "\n",
    "print(f\"\\n\\n\\n\\n\\n\\n\\n================\\nAnswer: {response[\"llm\"][\"replies\"][0].text}\")"
   ]
  },
  {
   "cell_type": "code",
   "execution_count": 18,
   "metadata": {},
   "outputs": [
    {
     "data": {
      "application/vnd.jupyter.widget-view+json": {
       "model_id": "6160ec69cf77489cbb4bc57eaad00d91",
       "version_major": 2,
       "version_minor": 0
      },
      "text/plain": [
       "Batches:   0%|          | 0/1 [00:00<?, ?it/s]"
      ]
     },
     "metadata": {},
     "output_type": "display_data"
    },
    {
     "name": "stdout",
     "output_type": "stream",
     "text": [
      "vngcloud-blockstorage-csi-driver is a CSI (Container Storage Interface) driver developed by VNG Cloud, which allows Kubernetes clusters to manage and attach BlockStorage volumes from the VNG Cloud platform. It enables users to provision and use persistent storage for their containers in a Kubernetes environment.\n",
      "\n",
      "\n",
      "\n",
      "\n",
      "\n",
      "\n",
      "====================\n",
      "Answer: vngcloud-blockstorage-csi-driver is a CSI (Container Storage Interface) driver developed by VNG Cloud, which allows Kubernetes clusters to manage and attach BlockStorage volumes from the VNG Cloud platform. It enables users to provision and use persistent storage for their containers in a Kubernetes environment.\n"
     ]
    }
   ],
   "source": [
    "question = \"What is vngcloud-blockstorage-csi-driver?\"\n",
    "\n",
    "response = basic_rag_pipeline.run({\"text_embedder\": {\"text\": question}, \"prompt_builder\": {\"question\": question}})\n",
    "\n",
    "print(f\"\\n\\n\\n\\n\\n\\n\\n====================\\nAnswer: {response[\"llm\"][\"replies\"][0].text}\")"
   ]
  },
  {
   "cell_type": "code",
   "execution_count": 19,
   "metadata": {},
   "outputs": [
    {
     "data": {
      "application/vnd.jupyter.widget-view+json": {
       "model_id": "5d03b08ce4ac4e1081bf630c58e5f877",
       "version_major": 2,
       "version_minor": 0
      },
      "text/plain": [
       "Batches:   0%|          | 0/1 [00:00<?, ?it/s]"
      ]
     },
     "metadata": {},
     "output_type": "display_data"
    },
    {
     "name": "stdout",
     "output_type": "stream",
     "text": [
      "To create a Persistent Volume Claim (PVC) of 20Gi using the vngcloud-blockstorage-csi-driver, you would typically follow these steps:\n",
      "\n",
      "1. **Create a Kubernetes cluster** on VNGCloud or use an existing one.\n",
      "2. **Install Helm version 3.0 or higher**, as per the requirements for installing vngcloud-blockstorage-csi-driver.\n",
      "3. **Add the vks-helm-charts repository** to your cluster using `helm repo add v\n",
      "\n",
      "\n",
      "\n",
      "\n",
      "==============================\n",
      "Answer: To create a Persistent Volume Claim (PVC) of 20Gi using the vngcloud-blockstorage-csi-driver, you would typically follow these steps:\n",
      "\n",
      "1. **Create a Kubernetes cluster** on VNGCloud or use an existing one.\n",
      "2. **Install Helm version 3.0 or higher**, as per the requirements for installing vngcloud-blockstorage-csi-driver.\n",
      "3. **Add the vks-helm-charts repository** to your cluster using `helm repo add v\n"
     ]
    }
   ],
   "source": [
    "question = \"I want to create a pvc of 20Gi using vngcloud-blockstorage-csi-driver\"\n",
    "\n",
    "response = basic_rag_pipeline.run({\"text_embedder\": {\"text\": question}, \"prompt_builder\": {\"question\": question}})\n",
    "\n",
    "print(f\"\\n\\n\\n\\n\\n==============================\\nAnswer: {response[\"llm\"][\"replies\"][0].text}\")"
   ]
  },
  {
   "cell_type": "code",
   "execution_count": 20,
   "metadata": {},
   "outputs": [
    {
     "data": {
      "application/vnd.jupyter.widget-view+json": {
       "model_id": "412ebf1cc5b84e81a70b238fe4ccc1e0",
       "version_major": 2,
       "version_minor": 0
      },
      "text/plain": [
       "Batches:   0%|          | 0/1 [00:00<?, ?it/s]"
      ]
     },
     "metadata": {},
     "output_type": "display_data"
    },
    {
     "name": "stdout",
     "output_type": "stream",
     "text": [
      "To use Volume Snapshot in a VKS (VNGCloud Snapshot) cluster, follow these steps:\n",
      "\n",
      "1. **Enable the Snapshot service**: Go to the VNGCloud console and select \"Activate Snapshot Service\" in the Block Store > Snapshot menu.\n",
      "2. **Install Helm version 3.0 or higher**: Refer to the official Helm documentation for instructions on how to install Helm.\n",
      "3. **Add the VKS Helm repository**: Run `helm repo add vks-helm-charts https://\n",
      "\n",
      "\n",
      "===========================\n",
      "Answer: To use Volume Snapshot in a VKS (VNGCloud Snapshot) cluster, follow these steps:\n",
      "\n",
      "1. **Enable the Snapshot service**: Go to the VNGCloud console and select \"Activate Snapshot Service\" in the Block Store > Snapshot menu.\n",
      "2. **Install Helm version 3.0 or higher**: Refer to the official Helm documentation for instructions on how to install Helm.\n",
      "3. **Add the VKS Helm repository**: Run `helm repo add vks-helm-charts https://\n"
     ]
    }
   ],
   "source": [
    "question = \"How to use volume snapshot in VKS cluster\"\n",
    "\n",
    "response = basic_rag_pipeline.run({\"text_embedder\": {\"text\": question}, \"prompt_builder\": {\"question\": question}})\n",
    "\n",
    "print(f\"\\n\\n\\n===========================\\nAnswer: {response[\"llm\"][\"replies\"][0].text}\")"
   ]
  },
  {
   "cell_type": "code",
   "execution_count": null,
   "metadata": {},
   "outputs": [],
   "source": []
  }
 ],
 "metadata": {
  "kernelspec": {
   "display_name": ".venv",
   "language": "python",
   "name": "python3"
  },
  "language_info": {
   "codemirror_mode": {
    "name": "ipython",
    "version": 3
   },
   "file_extension": ".py",
   "mimetype": "text/x-python",
   "name": "python",
   "nbconvert_exporter": "python",
   "pygments_lexer": "ipython3",
   "version": "3.12.3"
  }
 },
 "nbformat": 4,
 "nbformat_minor": 2
}
