{
 "cells": [
  {
   "cell_type": "markdown",
   "metadata": {},
   "source": [
    "# `VKS document with llama3`\n"
   ]
  },
  {
   "cell_type": "code",
   "execution_count": 1,
   "metadata": {},
   "outputs": [],
   "source": [
    "%load_ext autoreload\n",
    "%autoreload 2"
   ]
  },
  {
   "cell_type": "markdown",
   "metadata": {},
   "source": [
    "## On its own\n"
   ]
  },
  {
   "cell_type": "code",
   "execution_count": 2,
   "metadata": {},
   "outputs": [],
   "source": [
    "from haystack import Pipeline\n",
    "from haystack.document_stores.in_memory import InMemoryDocumentStore\n",
    "from haystack.components.converters import PDFMinerToDocument\n",
    "from haystack.components.preprocessors import DocumentCleaner\n",
    "from haystack.components.preprocessors import DocumentSplitter\n",
    "from haystack.components.writers import DocumentWriter"
   ]
  },
  {
   "cell_type": "code",
   "execution_count": 3,
   "metadata": {},
   "outputs": [
    {
     "data": {
      "text/plain": [
       "<haystack.core.pipeline.pipeline.Pipeline object at 0x76b44cff7440>\n",
       "🚅 Components\n",
       "  - converter: PDFMinerToDocument\n",
       "  - cleaner: DocumentCleaner\n",
       "  - splitter: DocumentSplitter\n",
       "  - writer: DocumentWriter\n",
       "🛤️ Connections\n",
       "  - converter.documents -> cleaner.documents (List[Document])\n",
       "  - cleaner.documents -> splitter.documents (List[Document])\n",
       "  - splitter.documents -> writer.documents (List[Document])"
      ]
     },
     "execution_count": 3,
     "metadata": {},
     "output_type": "execute_result"
    }
   ],
   "source": [
    "raw_document_store = InMemoryDocumentStore(embedding_similarity_function=\"cosine\")\n",
    "\n",
    "pipeline = Pipeline()\n",
    "pipeline.add_component(\"converter\", PDFMinerToDocument())\n",
    "pipeline.add_component(\"cleaner\", DocumentCleaner())\n",
    "pipeline.add_component(\"splitter\", DocumentSplitter(split_by=\"sentence\", split_length=20, split_overlap=15))\n",
    "pipeline.add_component(\"writer\", DocumentWriter(document_store=raw_document_store))\n",
    "\n",
    "pipeline.connect(\"converter\", \"cleaner\")\n",
    "pipeline.connect(\"cleaner\", \"splitter\")\n",
    "pipeline.connect(\"splitter\", \"writer\")"
   ]
  },
  {
   "cell_type": "code",
   "execution_count": 4,
   "metadata": {},
   "outputs": [
    {
     "data": {
      "text/plain": [
       "{'writer': {'documents_written': 687}}"
      ]
     },
     "execution_count": 4,
     "metadata": {},
     "output_type": "execute_result"
    }
   ],
   "source": [
    "file_names = [\"sample.pdf\"]\n",
    "pipeline.run({\"converter\": {\"sources\": file_names}})"
   ]
  },
  {
   "cell_type": "code",
   "execution_count": 5,
   "metadata": {},
   "outputs": [],
   "source": [
    "from haystack.components.embedders import SentenceTransformersDocumentEmbedder"
   ]
  },
  {
   "cell_type": "code",
   "execution_count": 6,
   "metadata": {},
   "outputs": [],
   "source": [
    "document_store = InMemoryDocumentStore(embedding_similarity_function=\"cosine\")"
   ]
  },
  {
   "cell_type": "markdown",
   "metadata": {},
   "source": [
    "Initalize a Document Embedder"
   ]
  },
  {
   "cell_type": "code",
   "execution_count": 7,
   "metadata": {},
   "outputs": [],
   "source": [
    "doc_embedder = SentenceTransformersDocumentEmbedder(model=\"sentence-transformers/all-MiniLM-L6-v2\")\n",
    "doc_embedder.warm_up()"
   ]
  },
  {
   "cell_type": "code",
   "execution_count": 8,
   "metadata": {},
   "outputs": [
    {
     "data": {
      "application/vnd.jupyter.widget-view+json": {
       "model_id": "210280c89519456fbf7f40f99643ee9c",
       "version_major": 2,
       "version_minor": 0
      },
      "text/plain": [
       "Batches:   0%|          | 0/22 [00:00<?, ?it/s]"
      ]
     },
     "metadata": {},
     "output_type": "display_data"
    },
    {
     "data": {
      "text/plain": [
       "687"
      ]
     },
     "execution_count": 8,
     "metadata": {},
     "output_type": "execute_result"
    }
   ],
   "source": [
    "docs_with_embeddings = doc_embedder.run(raw_document_store.filter_documents())\n",
    "document_store.write_documents(docs_with_embeddings[\"documents\"])"
   ]
  },
  {
   "cell_type": "code",
   "execution_count": 9,
   "metadata": {},
   "outputs": [],
   "source": [
    "from haystack.components.embedders import SentenceTransformersTextEmbedder\n",
    "from haystack.components.builders import ChatPromptBuilder\n",
    "from haystack.dataclasses import ChatMessage\n",
    "from haystack_integrations.components.generators.ollama import OllamaChatGenerator\n",
    "from haystack.components.retrievers.in_memory import InMemoryEmbeddingRetriever"
   ]
  },
  {
   "cell_type": "code",
   "execution_count": 10,
   "metadata": {},
   "outputs": [],
   "source": [
    "text_embedder = SentenceTransformersTextEmbedder(model=\"sentence-transformers/all-MiniLM-L6-v2\")"
   ]
  },
  {
   "cell_type": "code",
   "execution_count": 11,
   "metadata": {},
   "outputs": [],
   "source": [
    "template = [ChatMessage.from_user(\"\"\"\n",
    "Given the following information, answer the question.\n",
    "\n",
    "Context:\n",
    "{% for document in documents %}\n",
    "    {{ document.content }}\n",
    "{% endfor %}\n",
    "\n",
    "Question: {{question}}\n",
    "Answer:\n",
    "\"\"\")]\n",
    "\n",
    "prompt_builder = ChatPromptBuilder(template=template)"
   ]
  },
  {
   "cell_type": "code",
   "execution_count": 12,
   "metadata": {},
   "outputs": [],
   "source": [
    "chat_generator = OllamaChatGenerator(\n",
    "    model=\"llama3.1:8b\",\n",
    "    streaming_callback=lambda chunk: print(chunk.content, end=\"\", flush=True),\n",
    "    url = \"http://localhost:11434\",\n",
    "    generation_kwargs={\n",
    "        \"num_predict\": 1024,\n",
    "        \"temperature\": 0.01})"
   ]
  },
  {
   "cell_type": "markdown",
   "metadata": {},
   "source": [
    "Initialize retriever"
   ]
  },
  {
   "cell_type": "code",
   "execution_count": 13,
   "metadata": {},
   "outputs": [],
   "source": [
    "retriever = InMemoryEmbeddingRetriever(document_store)"
   ]
  },
  {
   "cell_type": "code",
   "execution_count": 14,
   "metadata": {},
   "outputs": [],
   "source": [
    "basic_rag_pipeline = Pipeline()\n",
    "# Add components to your pipeline\n",
    "basic_rag_pipeline.add_component(\"text_embedder\", text_embedder)\n",
    "basic_rag_pipeline.add_component(\"retriever\", retriever)\n",
    "basic_rag_pipeline.add_component(\"prompt_builder\", prompt_builder)\n",
    "basic_rag_pipeline.add_component(\"llm\", chat_generator)"
   ]
  },
  {
   "cell_type": "code",
   "execution_count": 15,
   "metadata": {},
   "outputs": [
    {
     "data": {
      "text/plain": [
       "<haystack.core.pipeline.pipeline.Pipeline object at 0x76b3d65bfda0>\n",
       "🚅 Components\n",
       "  - text_embedder: SentenceTransformersTextEmbedder\n",
       "  - retriever: InMemoryEmbeddingRetriever\n",
       "  - prompt_builder: ChatPromptBuilder\n",
       "  - llm: OllamaChatGenerator\n",
       "🛤️ Connections\n",
       "  - text_embedder.embedding -> retriever.query_embedding (List[float])\n",
       "  - retriever.documents -> prompt_builder.documents (List[Document])\n",
       "  - prompt_builder.prompt -> llm.messages (List[ChatMessage])"
      ]
     },
     "execution_count": 15,
     "metadata": {},
     "output_type": "execute_result"
    }
   ],
   "source": [
    "# Now, connect the components to each other\n",
    "basic_rag_pipeline.connect(\"text_embedder.embedding\", \"retriever.query_embedding\")\n",
    "basic_rag_pipeline.connect(\"retriever\", \"prompt_builder\")\n",
    "basic_rag_pipeline.connect(\"prompt_builder.prompt\", \"llm.messages\")"
   ]
  },
  {
   "cell_type": "markdown",
   "metadata": {},
   "source": [
    "# Asking question"
   ]
  },
  {
   "cell_type": "code",
   "execution_count": 16,
   "metadata": {},
   "outputs": [
    {
     "data": {
      "application/vnd.jupyter.widget-view+json": {
       "model_id": "a01586cabd29430097d96bc1799af267",
       "version_major": 2,
       "version_minor": 0
      },
      "text/plain": [
       "Batches:   0%|          | 0/1 [00:00<?, ?it/s]"
      ]
     },
     "metadata": {},
     "output_type": "display_data"
    },
    {
     "name": "stdout",
     "output_type": "stream",
     "text": [
      "VKS stands for VNGCloud Kubernetes Service. It appears to be a cloud-based platform that provides a managed Kubernetes service, allowing users to create and manage clusters, nodes, volumes, load balancers, and other resources in a scalable and secure manner. VKS seems to offer various features such as resource monitoring, event history, automatic garbage collection of unused containers and images, and improved performance.\n",
      "\n",
      "\n",
      "\n",
      "\n",
      "==========================\n",
      "Answer: VKS stands for VNGCloud Kubernetes Service. It appears to be a cloud-based platform that provides a managed Kubernetes service, allowing users to create and manage clusters, nodes, volumes, load balancers, and other resources in a scalable and secure manner. VKS seems to offer various features such as resource monitoring, event history, automatic garbage collection of unused containers and images, and improved performance.\n"
     ]
    }
   ],
   "source": [
    "question = \"What is VKS?\"\n",
    "\n",
    "response = basic_rag_pipeline.run({\"text_embedder\": {\"text\": question}, \"prompt_builder\": {\"question\": question}})\n",
    "\n",
    "print(f\"\\n\\n\\n\\n\\n==========================\\nAnswer: {response[\"llm\"][\"replies\"][0].text}\")"
   ]
  },
  {
   "cell_type": "code",
   "execution_count": 17,
   "metadata": {},
   "outputs": [
    {
     "data": {
      "application/vnd.jupyter.widget-view+json": {
       "model_id": "7efdfc2c62ae4d9c99412450e512b5a5",
       "version_major": 2,
       "version_minor": 0
      },
      "text/plain": [
       "Batches:   0%|          | 0/1 [00:00<?, ?it/s]"
      ]
     },
     "metadata": {},
     "output_type": "display_data"
    },
    {
     "name": "stdout",
     "output_type": "stream",
     "text": [
      "Here's a comparison of VKS Private Clusters and VKS Public Clusters:\n",
      "\n",
      "**Key Differences:**\n",
      "\n",
      "* **Security:** Private Clusters have higher security with all connections within VNG Cloud's private network, minimizing the risk of external network attacks. Public Clusters have medium security since they use public IP addresses.\n",
      "* **Access Management:** Private Clusters have strict access control, while Public Clusters require more complex configuration and management for access control.\n",
      "* **Scalability:** Both types of clusters are easily scalable through Auto Scaling feature.\n",
      "* **Accessibility:** Public Clusters can be accessed from anywhere with internet, while Private Clusters must be accessed through other security solutions.\n",
      "* **Configuration and Deployment:** Private Clusters require more complex configuration and deployment due to their private and secure network setup.\n",
      "* **Cost:** Private Clusters have higher costs due to additional security and management components required.\n",
      "\n",
      "**When to Use Each:**\n",
      "\n",
      "* **Public Cluster:** Suitable for applications that do not require high security and need flexibility and access from multiple locations. Easy to deploy and manage but has higher security risks.\n",
      "* **Private Cluster:** Suitable for applications that require high security, strictly complying with security and privacy regulations. Provides stable and secure connectivity, but requires more complex configuration and management, as well as higher costs.\n",
      "\n",
      "In summary, Private Clusters offer higher security and strict access control, while Public Clusters provide flexibility and ease of deployment, but at the cost of lower security.\n",
      "\n",
      "\n",
      "\n",
      "\n",
      "\n",
      "\n",
      "================\n",
      "Answer: Here's a comparison of VKS Private Clusters and VKS Public Clusters:\n",
      "\n",
      "**Key Differences:**\n",
      "\n",
      "* **Security:** Private Clusters have higher security with all connections within VNG Cloud's private network, minimizing the risk of external network attacks. Public Clusters have medium security since they use public IP addresses.\n",
      "* **Access Management:** Private Clusters have strict access control, while Public Clusters require more complex configuration and management for access control.\n",
      "* **Scalability:** Both types of clusters are easily scalable through Auto Scaling feature.\n",
      "* **Accessibility:** Public Clusters can be accessed from anywhere with internet, while Private Clusters must be accessed through other security solutions.\n",
      "* **Configuration and Deployment:** Private Clusters require more complex configuration and deployment due to their private and secure network setup.\n",
      "* **Cost:** Private Clusters have higher costs due to additional security and management components required.\n",
      "\n",
      "**When to Use Each:**\n",
      "\n",
      "* **Public Cluster:** Suitable for applications that do not require high security and need flexibility and access from multiple locations. Easy to deploy and manage but has higher security risks.\n",
      "* **Private Cluster:** Suitable for applications that require high security, strictly complying with security and privacy regulations. Provides stable and secure connectivity, but requires more complex configuration and management, as well as higher costs.\n",
      "\n",
      "In summary, Private Clusters offer higher security and strict access control, while Public Clusters provide flexibility and ease of deployment, but at the cost of lower security.\n"
     ]
    }
   ],
   "source": [
    "question = \"Compare VKS private clusters and VKS public clusters\"\n",
    "\n",
    "response = basic_rag_pipeline.run({\"text_embedder\": {\"text\": question}, \"prompt_builder\": {\"question\": question}})\n",
    "\n",
    "print(f\"\\n\\n\\n\\n\\n\\n\\n================\\nAnswer: {response[\"llm\"][\"replies\"][0].text}\")"
   ]
  },
  {
   "cell_type": "code",
   "execution_count": 18,
   "metadata": {},
   "outputs": [
    {
     "data": {
      "application/vnd.jupyter.widget-view+json": {
       "model_id": "bc268722c8834724b306bb3571fdf8eb",
       "version_major": 2,
       "version_minor": 0
      },
      "text/plain": [
       "Batches:   0%|          | 0/1 [00:00<?, ?it/s]"
      ]
     },
     "metadata": {},
     "output_type": "display_data"
    },
    {
     "name": "stdout",
     "output_type": "stream",
     "text": [
      "vngcloud-blockstorage-csi-driver is a CSI (Container Storage Interface) driver provided by VNG Cloud, which allows attaching BlockStorage volumes to Kubernetes pods. It supports ReadWriteMany access, allowing multiple nodes to read and write on the same volume simultaneously.\n",
      "\n",
      "\n",
      "\n",
      "\n",
      "\n",
      "\n",
      "====================\n",
      "Answer: vngcloud-blockstorage-csi-driver is a CSI (Container Storage Interface) driver provided by VNG Cloud, which allows attaching BlockStorage volumes to Kubernetes pods. It supports ReadWriteMany access, allowing multiple nodes to read and write on the same volume simultaneously.\n"
     ]
    }
   ],
   "source": [
    "question = \"What is vngcloud-blockstorage-csi-driver?\"\n",
    "\n",
    "response = basic_rag_pipeline.run({\"text_embedder\": {\"text\": question}, \"prompt_builder\": {\"question\": question}})\n",
    "\n",
    "print(f\"\\n\\n\\n\\n\\n\\n\\n====================\\nAnswer: {response[\"llm\"][\"replies\"][0].text}\")"
   ]
  },
  {
   "cell_type": "code",
   "execution_count": 19,
   "metadata": {},
   "outputs": [
    {
     "data": {
      "application/vnd.jupyter.widget-view+json": {
       "model_id": "90c0e437a75947ad9c1d12512929792a",
       "version_major": 2,
       "version_minor": 0
      },
      "text/plain": [
       "Batches:   0%|          | 0/1 [00:00<?, ?it/s]"
      ]
     },
     "metadata": {},
     "output_type": "display_data"
    },
    {
     "name": "stdout",
     "output_type": "stream",
     "text": [
      "To create a Persistent Volume Claim (PVC) of 20Gi using the `vngcloud-blockstorage-csi-driver`, you will need to follow these steps:\n",
      "\n",
      "1. Create a YAML file, e.g., `pvc.yaml`, with the following content:\n",
      "```yaml\n",
      "apiVersion: v1\n",
      "kind: PersistentVolumeClaim\n",
      "metadata:\n",
      "  name: my-pvc\n",
      "spec:\n",
      "  accessModes:\n",
      "    - ReadWriteOnce\n",
      "  resources:\n",
      "    requests:\n",
      "      storage: 20Gi\n",
      "```\n",
      "This YAML file defines a PVC named `my-pvc` that requests 20Gi of storage.\n",
      "\n",
      "2. Apply the YAML file to your Kubernetes cluster using the following command:\n",
      "```bash\n",
      "kubectl apply -f pvc.yaml\n",
      "```\n",
      "3. Verify that the PVC has been created successfully by running the following command:\n",
      "```bash\n",
      "kubectl get pvc my-pvc\n",
      "```\n",
      "This should display information about the PVC, including its status.\n",
      "\n",
      "4. To use the PVC with a pod, you will need to create a Deployment or Pod that references the PVC. For example, you can add a volume to your `nginx-service.yaml` file:\n",
      "```yaml\n",
      "apiVersion: apps/v1\n",
      "kind: Deployment\n",
      "metadata:\n",
      "  name: nginx-app\n",
      "spec:\n",
      "  selector:\n",
      "    matchLabels:\n",
      "      app: nginx\n",
      "  replicas: 1\n",
      "  template:\n",
      "    metadata:\n",
      "      labels:\n",
      "        app: nginx\n",
      "    spec:\n",
      "      containers:\n",
      "      - name: nginx\n",
      "        image: nginx:1.19\n",
      "        volumeMounts:\n",
      "        - name: my-pvc\n",
      "          mountPath: /var/www/html\n",
      "      volumes:\n",
      "      - name: my-pvc\n",
      "        persistentVolumeClaim:\n",
      "          claimName: my-pvc\n",
      "```\n",
      "This will create a Deployment that uses the `my-pvc` PVC as a volume.\n",
      "\n",
      "Note: Make sure you have installed the `vngcloud-blockstorage-csi-driver` and created a Service Account with the necessary permissions to access the CSI driver.\n",
      "\n",
      "\n",
      "\n",
      "\n",
      "==============================\n",
      "Answer: To create a Persistent Volume Claim (PVC) of 20Gi using the `vngcloud-blockstorage-csi-driver`, you will need to follow these steps:\n",
      "\n",
      "1. Create a YAML file, e.g., `pvc.yaml`, with the following content:\n",
      "```yaml\n",
      "apiVersion: v1\n",
      "kind: PersistentVolumeClaim\n",
      "metadata:\n",
      "  name: my-pvc\n",
      "spec:\n",
      "  accessModes:\n",
      "    - ReadWriteOnce\n",
      "  resources:\n",
      "    requests:\n",
      "      storage: 20Gi\n",
      "```\n",
      "This YAML file defines a PVC named `my-pvc` that requests 20Gi of storage.\n",
      "\n",
      "2. Apply the YAML file to your Kubernetes cluster using the following command:\n",
      "```bash\n",
      "kubectl apply -f pvc.yaml\n",
      "```\n",
      "3. Verify that the PVC has been created successfully by running the following command:\n",
      "```bash\n",
      "kubectl get pvc my-pvc\n",
      "```\n",
      "This should display information about the PVC, including its status.\n",
      "\n",
      "4. To use the PVC with a pod, you will need to create a Deployment or Pod that references the PVC. For example, you can add a volume to your `nginx-service.yaml` file:\n",
      "```yaml\n",
      "apiVersion: apps/v1\n",
      "kind: Deployment\n",
      "metadata:\n",
      "  name: nginx-app\n",
      "spec:\n",
      "  selector:\n",
      "    matchLabels:\n",
      "      app: nginx\n",
      "  replicas: 1\n",
      "  template:\n",
      "    metadata:\n",
      "      labels:\n",
      "        app: nginx\n",
      "    spec:\n",
      "      containers:\n",
      "      - name: nginx\n",
      "        image: nginx:1.19\n",
      "        volumeMounts:\n",
      "        - name: my-pvc\n",
      "          mountPath: /var/www/html\n",
      "      volumes:\n",
      "      - name: my-pvc\n",
      "        persistentVolumeClaim:\n",
      "          claimName: my-pvc\n",
      "```\n",
      "This will create a Deployment that uses the `my-pvc` PVC as a volume.\n",
      "\n",
      "Note: Make sure you have installed the `vngcloud-blockstorage-csi-driver` and created a Service Account with the necessary permissions to access the CSI driver.\n"
     ]
    }
   ],
   "source": [
    "question = \"I want to create a pvc of 20Gi using vngcloud-blockstorage-csi-driver\"\n",
    "\n",
    "response = basic_rag_pipeline.run({\"text_embedder\": {\"text\": question}, \"prompt_builder\": {\"question\": question}})\n",
    "\n",
    "print(f\"\\n\\n\\n\\n\\n==============================\\nAnswer: {response[\"llm\"][\"replies\"][0].text}\")"
   ]
  },
  {
   "cell_type": "code",
   "execution_count": 20,
   "metadata": {},
   "outputs": [
    {
     "data": {
      "application/vnd.jupyter.widget-view+json": {
       "model_id": "94d2e0c6e5dc4880b0529d7400dee94d",
       "version_major": 2,
       "version_minor": 0
      },
      "text/plain": [
       "Batches:   0%|          | 0/1 [00:00<?, ?it/s]"
      ]
     },
     "metadata": {},
     "output_type": "display_data"
    },
    {
     "name": "stdout",
     "output_type": "stream",
     "text": [
      "To use volume snapshots in a VKS (VNGCloud Snapshot) cluster, you can follow these steps:\n",
      "\n",
      "1. **Enable the Snapshot service**: Visit https://hcm-3.console.vngcloud.vn/vserver/block-store/snapshot/overview and select \"Activate Snapshot Service\".\n",
      "2. **Install VNGCloud Snapshot Controller**: Install Helm version 3.0 or higher, add the `vks-helm-charts` repository to your cluster, and install the `vngcloud-snapshot-controller` chart using Helm.\n",
      "3. **Create a VolumeSnapshotClass**: Create a YAML file (e.g., `snapshot.yaml`) with the following content:\n",
      "```yaml\n",
      "apiVersion: snapshot.storage.k8s.io/v1\n",
      "kind: VolumeSnapshotClass\n",
      "metadata:\n",
      "  name: my-snapshot-storage-class\n",
      "driver: bs.csi.vngcloud.vn\n",
      "deletionPolicy: Delete\n",
      "parameters:\n",
      "  force-create: \"false\"\n",
      "```\n",
      "4. **Apply the YAML file**: Run `kubectl apply -f snapshot.yaml` to create the VolumeSnapshotClass.\n",
      "5. **Create a PersistentVolumeClaim (PVC)**: Create a PVC that references the VolumeSnapshotClass you created earlier. For example:\n",
      "```yaml\n",
      "apiVersion: v1\n",
      "kind: PersistentVolumeClaim\n",
      "metadata:\n",
      "  name: my-restore-pvc\n",
      "spec:\n",
      "  storageClassName: my-expansion-storage-class\n",
      "  dataSource:\n",
      "    name: my-snapshot-pvc\n",
      "    kind: VolumeSnapshot\n",
      "    apiGroup: snapshot.storage.k8s.io\n",
      "  accessModes:\n",
      "    - ReadWriteOnce\n",
      "  resources:\n",
      "    requests:\n",
      "      storage: 20Gi\n",
      "```\n",
      "6. **Apply the PVC YAML file**: Run `kubectl apply -f pvc.yaml` to create the PVC.\n",
      "7. **Create a VolumeSnapshot**: Create a VolumeSnapshot that references the PVC you created earlier. For example:\n",
      "```yaml\n",
      "apiVersion: snapshot.storage.k8s.io/v1\n",
      "kind: VolumeSnapshot\n",
      "metadata:\n",
      "  name: my-snapshot-pvc\n",
      "spec:\n",
      "  volumeSnapshotClassName: my-snapshot-storage-class\n",
      "  source:\n",
      "    persistentVolumeClaimName: my-restore-pvc\n",
      "```\n",
      "8. **Apply the VolumeSnapshot YAML file**: Run `kubectl apply -f volumesnapshot.yaml` to create the VolumeSnapshot.\n",
      "\n",
      "Once you have completed these steps, you can use the VolumeSnapshot to restore a PVC or create a new PVC from the snapshot.\n",
      "\n",
      "\n",
      "===========================\n",
      "Answer: To use volume snapshots in a VKS (VNGCloud Snapshot) cluster, you can follow these steps:\n",
      "\n",
      "1. **Enable the Snapshot service**: Visit https://hcm-3.console.vngcloud.vn/vserver/block-store/snapshot/overview and select \"Activate Snapshot Service\".\n",
      "2. **Install VNGCloud Snapshot Controller**: Install Helm version 3.0 or higher, add the `vks-helm-charts` repository to your cluster, and install the `vngcloud-snapshot-controller` chart using Helm.\n",
      "3. **Create a VolumeSnapshotClass**: Create a YAML file (e.g., `snapshot.yaml`) with the following content:\n",
      "```yaml\n",
      "apiVersion: snapshot.storage.k8s.io/v1\n",
      "kind: VolumeSnapshotClass\n",
      "metadata:\n",
      "  name: my-snapshot-storage-class\n",
      "driver: bs.csi.vngcloud.vn\n",
      "deletionPolicy: Delete\n",
      "parameters:\n",
      "  force-create: \"false\"\n",
      "```\n",
      "4. **Apply the YAML file**: Run `kubectl apply -f snapshot.yaml` to create the VolumeSnapshotClass.\n",
      "5. **Create a PersistentVolumeClaim (PVC)**: Create a PVC that references the VolumeSnapshotClass you created earlier. For example:\n",
      "```yaml\n",
      "apiVersion: v1\n",
      "kind: PersistentVolumeClaim\n",
      "metadata:\n",
      "  name: my-restore-pvc\n",
      "spec:\n",
      "  storageClassName: my-expansion-storage-class\n",
      "  dataSource:\n",
      "    name: my-snapshot-pvc\n",
      "    kind: VolumeSnapshot\n",
      "    apiGroup: snapshot.storage.k8s.io\n",
      "  accessModes:\n",
      "    - ReadWriteOnce\n",
      "  resources:\n",
      "    requests:\n",
      "      storage: 20Gi\n",
      "```\n",
      "6. **Apply the PVC YAML file**: Run `kubectl apply -f pvc.yaml` to create the PVC.\n",
      "7. **Create a VolumeSnapshot**: Create a VolumeSnapshot that references the PVC you created earlier. For example:\n",
      "```yaml\n",
      "apiVersion: snapshot.storage.k8s.io/v1\n",
      "kind: VolumeSnapshot\n",
      "metadata:\n",
      "  name: my-snapshot-pvc\n",
      "spec:\n",
      "  volumeSnapshotClassName: my-snapshot-storage-class\n",
      "  source:\n",
      "    persistentVolumeClaimName: my-restore-pvc\n",
      "```\n",
      "8. **Apply the VolumeSnapshot YAML file**: Run `kubectl apply -f volumesnapshot.yaml` to create the VolumeSnapshot.\n",
      "\n",
      "Once you have completed these steps, you can use the VolumeSnapshot to restore a PVC or create a new PVC from the snapshot.\n"
     ]
    }
   ],
   "source": [
    "question = \"How to use volume snapshot in VKS cluster\"\n",
    "\n",
    "response = basic_rag_pipeline.run({\"text_embedder\": {\"text\": question}, \"prompt_builder\": {\"question\": question}})\n",
    "\n",
    "print(f\"\\n\\n\\n===========================\\nAnswer: {response[\"llm\"][\"replies\"][0].text}\")"
   ]
  },
  {
   "cell_type": "code",
   "execution_count": null,
   "metadata": {},
   "outputs": [],
   "source": []
  }
 ],
 "metadata": {
  "kernelspec": {
   "display_name": ".venv",
   "language": "python",
   "name": "python3"
  },
  "language_info": {
   "codemirror_mode": {
    "name": "ipython",
    "version": 3
   },
   "file_extension": ".py",
   "mimetype": "text/x-python",
   "name": "python",
   "nbconvert_exporter": "python",
   "pygments_lexer": "ipython3",
   "version": "3.12.3"
  }
 },
 "nbformat": 4,
 "nbformat_minor": 2
}
