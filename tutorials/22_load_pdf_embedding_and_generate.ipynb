{
 "cells": [
  {
   "cell_type": "markdown",
   "metadata": {},
   "source": [
    "# `VKS document with llama3`\n"
   ]
  },
  {
   "cell_type": "code",
   "execution_count": 1,
   "metadata": {},
   "outputs": [],
   "source": [
    "%load_ext autoreload\n",
    "%autoreload 2"
   ]
  },
  {
   "cell_type": "markdown",
   "metadata": {},
   "source": [
    "## On its own\n"
   ]
  },
  {
   "cell_type": "code",
   "execution_count": 2,
   "metadata": {},
   "outputs": [],
   "source": [
    "from haystack import Pipeline\n",
    "from haystack.document_stores.in_memory import InMemoryDocumentStore\n",
    "from haystack.components.converters import PDFMinerToDocument\n",
    "from haystack.components.preprocessors import DocumentCleaner\n",
    "from haystack.components.preprocessors import DocumentSplitter\n",
    "from haystack.components.writers import DocumentWriter"
   ]
  },
  {
   "cell_type": "code",
   "execution_count": 3,
   "metadata": {},
   "outputs": [
    {
     "data": {
      "text/plain": [
       "<haystack.core.pipeline.pipeline.Pipeline object at 0x7f50bad8b220>\n",
       "🚅 Components\n",
       "  - converter: PDFMinerToDocument\n",
       "  - cleaner: DocumentCleaner\n",
       "  - splitter: DocumentSplitter\n",
       "  - writer: DocumentWriter\n",
       "🛤️ Connections\n",
       "  - converter.documents -> cleaner.documents (List[Document])\n",
       "  - cleaner.documents -> splitter.documents (List[Document])\n",
       "  - splitter.documents -> writer.documents (List[Document])"
      ]
     },
     "execution_count": 3,
     "metadata": {},
     "output_type": "execute_result"
    }
   ],
   "source": [
    "raw_document_store = InMemoryDocumentStore(embedding_similarity_function=\"cosine\")\n",
    "\n",
    "pipeline = Pipeline()\n",
    "pipeline.add_component(\"converter\", PDFMinerToDocument())\n",
    "pipeline.add_component(\"cleaner\", DocumentCleaner())\n",
    "pipeline.add_component(\"splitter\", DocumentSplitter(split_by=\"sentence\", split_length=20, split_overlap=15))\n",
    "pipeline.add_component(\"writer\", DocumentWriter(document_store=raw_document_store))\n",
    "\n",
    "pipeline.connect(\"converter\", \"cleaner\")\n",
    "pipeline.connect(\"cleaner\", \"splitter\")\n",
    "pipeline.connect(\"splitter\", \"writer\")"
   ]
  },
  {
   "cell_type": "code",
   "execution_count": 4,
   "metadata": {},
   "outputs": [
    {
     "data": {
      "text/plain": [
       "{'writer': {'documents_written': 687}}"
      ]
     },
     "execution_count": 4,
     "metadata": {},
     "output_type": "execute_result"
    }
   ],
   "source": [
    "file_names = [\"sample.pdf\"]\n",
    "pipeline.run({\"converter\": {\"sources\": file_names}})"
   ]
  },
  {
   "cell_type": "code",
   "execution_count": 5,
   "metadata": {},
   "outputs": [],
   "source": [
    "from haystack.components.embedders import SentenceTransformersDocumentEmbedder"
   ]
  },
  {
   "cell_type": "code",
   "execution_count": 6,
   "metadata": {},
   "outputs": [],
   "source": [
    "document_store = InMemoryDocumentStore(embedding_similarity_function=\"cosine\")"
   ]
  },
  {
   "cell_type": "markdown",
   "metadata": {},
   "source": [
    "Initalize a Document Embedder"
   ]
  },
  {
   "cell_type": "code",
   "execution_count": 7,
   "metadata": {},
   "outputs": [],
   "source": [
    "doc_embedder = SentenceTransformersDocumentEmbedder(model=\"sentence-transformers/all-MiniLM-L6-v2\")\n",
    "doc_embedder.warm_up()"
   ]
  },
  {
   "cell_type": "code",
   "execution_count": 8,
   "metadata": {},
   "outputs": [
    {
     "data": {
      "application/vnd.jupyter.widget-view+json": {
       "model_id": "ee5b2a40cb4d4ee4b8968dcfe53dfc87",
       "version_major": 2,
       "version_minor": 0
      },
      "text/plain": [
       "Batches:   0%|          | 0/22 [00:00<?, ?it/s]"
      ]
     },
     "metadata": {},
     "output_type": "display_data"
    },
    {
     "data": {
      "text/plain": [
       "687"
      ]
     },
     "execution_count": 8,
     "metadata": {},
     "output_type": "execute_result"
    }
   ],
   "source": [
    "docs_with_embeddings = doc_embedder.run(raw_document_store.filter_documents())\n",
    "document_store.write_documents(docs_with_embeddings[\"documents\"])"
   ]
  },
  {
   "cell_type": "code",
   "execution_count": 9,
   "metadata": {},
   "outputs": [],
   "source": [
    "from haystack.components.embedders import SentenceTransformersTextEmbedder\n",
    "from haystack.components.builders import ChatPromptBuilder\n",
    "from haystack.dataclasses import ChatMessage\n",
    "from haystack_integrations.components.generators.ollama import OllamaChatGenerator\n",
    "from haystack.components.retrievers.in_memory import InMemoryEmbeddingRetriever"
   ]
  },
  {
   "cell_type": "code",
   "execution_count": 10,
   "metadata": {},
   "outputs": [],
   "source": [
    "text_embedder = SentenceTransformersTextEmbedder(model=\"sentence-transformers/all-MiniLM-L6-v2\")"
   ]
  },
  {
   "cell_type": "code",
   "execution_count": 11,
   "metadata": {},
   "outputs": [],
   "source": [
    "template = [ChatMessage.from_user(\"\"\"\n",
    "Given the following information, answer the question.\n",
    "\n",
    "Context:\n",
    "{% for document in documents %}\n",
    "    {{ document.content }}\n",
    "{% endfor %}\n",
    "\n",
    "Question: {{question}}\n",
    "Answer:\n",
    "\"\"\")]\n",
    "\n",
    "prompt_builder = ChatPromptBuilder(template=template)"
   ]
  },
  {
   "cell_type": "code",
   "execution_count": 12,
   "metadata": {},
   "outputs": [],
   "source": [
    "chat_generator = OllamaChatGenerator(\n",
    "    model=\"llama3.1:8b\", # llama3.3 or llama3.1:8b\n",
    "    streaming_callback=lambda chunk: print(chunk.content, end=\"\", flush=True),\n",
    "    url = \"http://localhost:11434\",\n",
    "    generation_kwargs={\n",
    "        \"num_predict\": 1024,\n",
    "        \"temperature\": 0.01})"
   ]
  },
  {
   "cell_type": "markdown",
   "metadata": {},
   "source": [
    "Initialize retriever"
   ]
  },
  {
   "cell_type": "code",
   "execution_count": 13,
   "metadata": {},
   "outputs": [],
   "source": [
    "retriever = InMemoryEmbeddingRetriever(document_store)"
   ]
  },
  {
   "cell_type": "code",
   "execution_count": 14,
   "metadata": {},
   "outputs": [],
   "source": [
    "basic_rag_pipeline = Pipeline()\n",
    "# Add components to your pipeline\n",
    "basic_rag_pipeline.add_component(\"text_embedder\", text_embedder)\n",
    "basic_rag_pipeline.add_component(\"retriever\", retriever)\n",
    "basic_rag_pipeline.add_component(\"prompt_builder\", prompt_builder)\n",
    "basic_rag_pipeline.add_component(\"llm\", chat_generator)"
   ]
  },
  {
   "cell_type": "code",
   "execution_count": 15,
   "metadata": {},
   "outputs": [
    {
     "data": {
      "text/plain": [
       "<haystack.core.pipeline.pipeline.Pipeline object at 0x7f505959a980>\n",
       "🚅 Components\n",
       "  - text_embedder: SentenceTransformersTextEmbedder\n",
       "  - retriever: InMemoryEmbeddingRetriever\n",
       "  - prompt_builder: ChatPromptBuilder\n",
       "  - llm: OllamaChatGenerator\n",
       "🛤️ Connections\n",
       "  - text_embedder.embedding -> retriever.query_embedding (List[float])\n",
       "  - retriever.documents -> prompt_builder.documents (List[Document])\n",
       "  - prompt_builder.prompt -> llm.messages (List[ChatMessage])"
      ]
     },
     "execution_count": 15,
     "metadata": {},
     "output_type": "execute_result"
    }
   ],
   "source": [
    "# Now, connect the components to each other\n",
    "basic_rag_pipeline.connect(\"text_embedder.embedding\", \"retriever.query_embedding\")\n",
    "basic_rag_pipeline.connect(\"retriever\", \"prompt_builder\")\n",
    "basic_rag_pipeline.connect(\"prompt_builder.prompt\", \"llm.messages\")"
   ]
  },
  {
   "cell_type": "markdown",
   "metadata": {},
   "source": [
    "# Asking question"
   ]
  },
  {
   "cell_type": "code",
   "execution_count": 16,
   "metadata": {},
   "outputs": [
    {
     "data": {
      "application/vnd.jupyter.widget-view+json": {
       "model_id": "053daab54aa24069a2842e4968a27fc1",
       "version_major": 2,
       "version_minor": 0
      },
      "text/plain": [
       "Batches:   0%|          | 0/1 [00:00<?, ?it/s]"
      ]
     },
     "metadata": {},
     "output_type": "display_data"
    },
    {
     "name": "stdout",
     "output_type": "stream",
     "text": [
      "VKS stands for VNGCloud Kubernetes Service. It appears to be a cloud-based platform that provides a managed Kubernetes service, allowing users to create and manage clusters, nodes, volumes, load balancers, and other resources in a scalable and secure manner. VKS seems to offer various features such as resource monitoring, event history, garbage collection of unused containers and images, and improved performance. It also supports integration with Terraform for easier cluster management."
     ]
    }
   ],
   "source": [
    "question = \"What is VKS?\"\n",
    "\n",
    "response = basic_rag_pipeline.run({\"text_embedder\": {\"text\": question}, \"prompt_builder\": {\"question\": question}})"
   ]
  },
  {
   "cell_type": "code",
   "execution_count": 17,
   "metadata": {},
   "outputs": [
    {
     "data": {
      "application/vnd.jupyter.widget-view+json": {
       "model_id": "d83cfc47c97d49e683da3ad28499bd35",
       "version_major": 2,
       "version_minor": 0
      },
      "text/plain": [
       "Batches:   0%|          | 0/1 [00:00<?, ?it/s]"
      ]
     },
     "metadata": {},
     "output_type": "display_data"
    },
    {
     "name": "stdout",
     "output_type": "stream",
     "text": [
      "Here's a comparison of VKS Private Clusters and VKS Public Clusters:\n",
      "\n",
      "**Security**\n",
      "\n",
      "* VKS Private Cluster: Higher security with all connections private and limited access.\n",
      "* VKS Public Cluster: Medium security since connections use public IP addresses.\n",
      "\n",
      "**Access Management**\n",
      "\n",
      "* VKS Private Cluster: Strict access control, all connections are within VNG Cloud's private network.\n",
      "* VKS Public Cluster: More difficult to control, access can be managed through the Whitelist feature.\n",
      "\n",
      "**Scalability**\n",
      "\n",
      "* Both VKS Private Clusters and VKS Public Clusters are easily scalable through Auto Scaling features.\n",
      "\n",
      "**Accessibility from Outside**\n",
      "\n",
      "* VKS Public Cluster: Easy access from anywhere with internet.\n",
      "* VKS Private Cluster: Access from outside must be through other security solutions.\n",
      "\n",
      "**Configuration and Deployment**\n",
      "\n",
      "* VKS Public Cluster: Simpler, does not require setting up a private and secure network.\n",
      "* VKS Private Cluster: More complex, requires configuration of a private and secure network.\n",
      "\n",
      "**Cost**\n",
      "\n",
      "* VKS Public Cluster: Usually lower because no need to set up additional security infrastructure.\n",
      "* VKS Private Cluster: Higher cost due to additional security and management components required.\n",
      "\n",
      "**Flexibility**\n",
      "\n",
      "* VKS Public Cluster: High, easy to change and access services.\n",
      "* VKS Private Cluster: More flexible in accessing services for applications that require security, but less flexible for applications that require external access.\n",
      "\n",
      "In summary:\n",
      "\n",
      "* VKS Private Clusters are suitable for applications that require high security, strictly complying with security and privacy regulations. They provide stable and secure connectivity, but require more complex configuration and management, as well as higher costs.\n",
      "* VKS Public Clusters are suitable for applications that do not require high security and need flexibility and access from multiple locations. They are easy to deploy and manage, but have higher security risks."
     ]
    }
   ],
   "source": [
    "question = \"Compare VKS private clusters and VKS public clusters\"\n",
    "\n",
    "response = basic_rag_pipeline.run({\"text_embedder\": {\"text\": question}, \"prompt_builder\": {\"question\": question}})"
   ]
  },
  {
   "cell_type": "code",
   "execution_count": 18,
   "metadata": {},
   "outputs": [
    {
     "data": {
      "application/vnd.jupyter.widget-view+json": {
       "model_id": "9a9bea558741417a914be2db0c1a3906",
       "version_major": 2,
       "version_minor": 0
      },
      "text/plain": [
       "Batches:   0%|          | 0/1 [00:00<?, ?it/s]"
      ]
     },
     "metadata": {},
     "output_type": "display_data"
    },
    {
     "name": "stdout",
     "output_type": "stream",
     "text": [
      "vngcloud-blockstorage-csi-driver is a CSI (Container Storage Interface) driver provided by VNG Cloud, which allows attaching and managing block storage volumes to Kubernetes nodes. It enables users to use VNG Cloud's BlockStorage service with their Kubernetes cluster."
     ]
    }
   ],
   "source": [
    "question = \"What is vngcloud-blockstorage-csi-driver?\"\n",
    "\n",
    "response = basic_rag_pipeline.run({\"text_embedder\": {\"text\": question}, \"prompt_builder\": {\"question\": question}})"
   ]
  },
  {
   "cell_type": "code",
   "execution_count": 19,
   "metadata": {},
   "outputs": [
    {
     "data": {
      "application/vnd.jupyter.widget-view+json": {
       "model_id": "151c1f3e54174f5b8a7899377b960eb3",
       "version_major": 2,
       "version_minor": 0
      },
      "text/plain": [
       "Batches:   0%|          | 0/1 [00:00<?, ?it/s]"
      ]
     },
     "metadata": {},
     "output_type": "display_data"
    },
    {
     "name": "stdout",
     "output_type": "stream",
     "text": [
      "To create a PVC (Persistent Volume Claim) of 20Gi using the `vngcloud-blockstorage-csi-driver`, you would need to follow these steps:\n",
      "\n",
      "1. Create a YAML file, e.g., `pvc.yaml`, with the following content:\n",
      "```yaml\n",
      "apiVersion: v1\n",
      "kind: PersistentVolumeClaim\n",
      "metadata:\n",
      "  name: my-pvc\n",
      "spec:\n",
      "  accessModes:\n",
      "    - ReadWriteOnce\n",
      "  resources:\n",
      "    requests:\n",
      "      storage: 20Gi\n",
      "```\n",
      "This YAML file defines a PVC named `my-pvc` that requests 20Gi of storage.\n",
      "\n",
      "2. Apply the YAML file to your Kubernetes cluster using the command:\n",
      "```bash\n",
      "kubectl apply -f pvc.yaml\n",
      "```\n",
      "3. Verify that the PVC has been created successfully by running:\n",
      "```bash\n",
      "kubectl get pvc\n",
      "```\n",
      "This should display the details of the `my-pvc` PVC, including its status.\n",
      "\n",
      "4. To use this PVC with a pod, you would need to create a Deployment or Pod that references the PVC. For example:\n",
      "```yaml\n",
      "apiVersion: apps/v1\n",
      "kind: Deployment\n",
      "metadata:\n",
      "  name: my-deployment\n",
      "spec:\n",
      "  selector:\n",
      "    matchLabels:\n",
      "      app: my-app\n",
      "  template:\n",
      "    metadata:\n",
      "      labels:\n",
      "        app: my-app\n",
      "    spec:\n",
      "      containers:\n",
      "      - name: my-container\n",
      "        image: <your-image>\n",
      "        volumeMounts:\n",
      "        - name: my-pvc\n",
      "          mountPath: /mnt/data\n",
      "      volumes:\n",
      "      - name: my-pvc\n",
      "        persistentVolumeClaim:\n",
      "          claimName: my-pvc\n",
      "```\n",
      "This Deployment references the `my-pvc` PVC and mounts it at `/mnt/data`.\n",
      "\n",
      "Note that you will need to replace `<your-image>` with the actual image you want to use for your container."
     ]
    }
   ],
   "source": [
    "question = \"I want to create a pvc of 20Gi using vngcloud-blockstorage-csi-driver\"\n",
    "\n",
    "response = basic_rag_pipeline.run({\"text_embedder\": {\"text\": question}, \"prompt_builder\": {\"question\": question}})"
   ]
  },
  {
   "cell_type": "code",
   "execution_count": 20,
   "metadata": {},
   "outputs": [
    {
     "data": {
      "application/vnd.jupyter.widget-view+json": {
       "model_id": "04989b4be25b49fe8488f857a42a8692",
       "version_major": 2,
       "version_minor": 0
      },
      "text/plain": [
       "Batches:   0%|          | 0/1 [00:00<?, ?it/s]"
      ]
     },
     "metadata": {},
     "output_type": "display_data"
    },
    {
     "name": "stdout",
     "output_type": "stream",
     "text": [
      "To use volume snapshots in a VKS (VNGCloud Snapshot) cluster, you can follow these steps:\n",
      "\n",
      "1. **Enable the Snapshot service**: Visit https://hcm-3.console.vngcloud.vn/vserver/block-store/snapshot/overview and select \"Activate Snapshot Service\".\n",
      "2. **Install VNGCloud Snapshot Controller**: Install Helm version 3.0 or higher, add the `vks-helm-charts` repository, and install the `vngcloud-snapshot-controller` chart using Helm.\n",
      "3. **Create a VolumeSnapshotClass**: Create a YAML file (e.g., `snapshot.yaml`) with the following content:\n",
      "```yaml\n",
      "apiVersion: snapshot.storage.k8s.io/v1\n",
      "kind: VolumeSnapshotClass\n",
      "metadata:\n",
      "  name: my-snapshot-storage-class\n",
      "driver: bs.csi.vngcloud.vn\n",
      "deletionPolicy: Delete\n",
      "parameters:\n",
      "  force-create: \"false\"\n",
      "```\n",
      "4. **Apply the YAML file**: Run `kubectl apply -f snapshot.yaml` to create the VolumeSnapshotClass.\n",
      "5. **Create a PersistentVolumeClaim (PVC)**: Create a PVC that references the VolumeSnapshotClass you created earlier. For example:\n",
      "```yaml\n",
      "apiVersion: v1\n",
      "kind: PersistentVolumeClaim\n",
      "metadata:\n",
      "  name: my-restore-pvc\n",
      "spec:\n",
      "  storageClassName: my-expansion-storage-class\n",
      "  dataSource:\n",
      "    name: my-snapshot-pvc\n",
      "    kind: VolumeSnapshot\n",
      "    apiGroup: snapshot.storage.k8s.io\n",
      "  accessModes:\n",
      "    - ReadWriteOnce\n",
      "  resources:\n",
      "    requests:\n",
      "      storage: 20Gi\n",
      "```\n",
      "6. **Apply the PVC YAML file**: Run `kubectl apply -f pvc.yaml` to create the PVC.\n",
      "7. **Create a VolumeSnapshot**: Create a VolumeSnapshot that references the PVC you created earlier. For example:\n",
      "```yaml\n",
      "apiVersion: snapshot.storage.k8s.io/v1\n",
      "kind: VolumeSnapshot\n",
      "metadata:\n",
      "  name: my-snapshot-pvc\n",
      "spec:\n",
      "  volumeSnapshotClassName: my-snapshot-storage-class\n",
      "  source:\n",
      "    persistentVolumeClaimName: my-restore-pvc\n",
      "```\n",
      "8. **Apply the VolumeSnapshot YAML file**: Run `kubectl apply -f volumesnapshot.yaml` to create the VolumeSnapshot.\n",
      "\n",
      "Once you have completed these steps, you can use the VolumeSnapshot to restore a PVC or create a new PVC from the snapshot."
     ]
    }
   ],
   "source": [
    "question = \"How to use volume snapshot in VKS cluster\"\n",
    "\n",
    "response = basic_rag_pipeline.run({\"text_embedder\": {\"text\": question}, \"prompt_builder\": {\"question\": question}})"
   ]
  },
  {
   "cell_type": "code",
   "execution_count": 21,
   "metadata": {},
   "outputs": [
    {
     "data": {
      "application/vnd.jupyter.widget-view+json": {
       "model_id": "755d902b19c94265a9a4a0077b514faf",
       "version_major": 2,
       "version_minor": 0
      },
      "text/plain": [
       "Batches:   0%|          | 0/1 [00:00<?, ?it/s]"
      ]
     },
     "metadata": {},
     "output_type": "display_data"
    },
    {
     "name": "stdout",
     "output_type": "stream",
     "text": [
      "To create a Persistent Volume Claim (PVC) with the specified requirements, you'll need to follow these steps:\n",
      "\n",
      "1. **Create a Service Account**: You've already covered this step in the provided text.\n",
      "2. **Install VNGCloud BlockStorage CSI Driver**:\n",
      "\t* Install Helm version 3.0 or higher.\n",
      "\t* Add the `vks-helm-charts` repository to your cluster using the following commands:\n",
      "\n",
      "```bash\n",
      "helm repo add vks-helm-charts https://vngcloud.github.io/vks\n",
      "helm repo update\n",
      "```\n",
      "\n",
      "\t* Replace the placeholders in the command with your actual Client ID, Secret Key, and Cluster ID information:\n",
      "\n",
      "```bash\n",
      "helm install vngcloud-blockstorage-csi-driver vks-helm-chart --replace --namespace kube-system \\\n",
      "  --set vngcloudAccessSecret.keyId=${VNGCLOUD_CLIENT_ID} \\\n",
      "  --set vngcloudAccessSecret.accessKey=${VNGCLOUD_CLIENT_SECRET} \\\n",
      "  --set vngcloudAccessSecret.secretKey=${VNGCLOUD_CLIENT_SECRET}\n",
      "```\n",
      "\n",
      "3. **Create a PVC**:\n",
      "\t* Create a YAML file (e.g., `pvc.yaml`) with the following content:\n",
      "\n",
      "```yaml\n",
      "apiVersion: v1\n",
      "kind: PersistentVolumeClaim\n",
      "metadata:\n",
      "  name: pvc-abc-xyz\n",
      "spec:\n",
      "  accessModes:\n",
      "    - ReadWriteOnce\n",
      "  resources:\n",
      "    requests:\n",
      "      storage: 30Gi\n",
      "  volumeName: vtype-abc-xyz\n",
      "```\n",
      "\n",
      "\t* Replace `vtype-abc-xyz` with the actual Volume Type you want to use.\n",
      "4. **Apply the PVC**:\n",
      "\n",
      "```bash\n",
      "kubectl apply -f pvc.yaml\n",
      "```\n",
      "\n",
      "This will create a PVC named `pvc-abc-xyz` with a storage size of 30Gi and attach it to the specified volume type.\n",
      "\n",
      "Note: Make sure you have replaced all placeholders (e.g., `VNGCLOUD_CLIENT_ID`, `VNGCLOUD_CLIENT_SECRET`) with your actual values."
     ]
    }
   ],
   "source": [
    "question = \"Help me to create a PVC of 30Gi using volume type vtype-abc-xyz using vngcloud-blockstorage-csi-driver\"\n",
    "\n",
    "response = basic_rag_pipeline.run({\"text_embedder\": {\"text\": question}, \"prompt_builder\": {\"question\": question}})"
   ]
  },
  {
   "cell_type": "code",
   "execution_count": null,
   "metadata": {},
   "outputs": [],
   "source": []
  }
 ],
 "metadata": {
  "kernelspec": {
   "display_name": "Python 3",
   "language": "python",
   "name": "python3"
  },
  "language_info": {
   "codemirror_mode": {
    "name": "ipython",
    "version": 3
   },
   "file_extension": ".py",
   "mimetype": "text/x-python",
   "name": "python",
   "nbconvert_exporter": "python",
   "pygments_lexer": "ipython3",
   "version": "3.10.12"
  }
 },
 "nbformat": 4,
 "nbformat_minor": 2
}
