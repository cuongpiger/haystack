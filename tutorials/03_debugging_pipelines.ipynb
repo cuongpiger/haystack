{
 "cells": [
  {
   "cell_type": "code",
   "execution_count": 1,
   "metadata": {},
   "outputs": [],
   "source": [
    "%load_ext autoreload\n",
    "%autoreload 2"
   ]
  },
  {
   "cell_type": "markdown",
   "metadata": {},
   "source": [
    "# Inspecting Component Outputs\n",
    "\n",
    "- To see the outputs of specific components in your pipeline, include the `include_outputs_from` parameter during execution.\n",
    "- For example, here is how you can print the output of `PromptBuilder` in this pipeline.\n"
   ]
  },
  {
   "cell_type": "code",
   "execution_count": 2,
   "metadata": {},
   "outputs": [],
   "source": [
    "\n",
    "from haystack import Pipeline, Document\n",
    "from haystack.utils import Secret\n",
    "from haystack_integrations.components.generators.llama_cpp import LlamaCppGenerator\n",
    "from haystack.components.builders.prompt_builder import PromptBuilder"
   ]
  },
  {
   "cell_type": "markdown",
   "metadata": {},
   "source": [
    "Prepare knowladge base for the pipeline\n"
   ]
  },
  {
   "cell_type": "code",
   "execution_count": 3,
   "metadata": {},
   "outputs": [],
   "source": [
    "documents = [\n",
    "    Document(content=\"Joe lives in Berlin\"), \n",
    "    Document(content=\"Joe is a software engineer\")\n",
    "]"
   ]
  },
  {
   "cell_type": "markdown",
   "metadata": {},
   "source": [
    "Prepare prompt for the pipeline"
   ]
  },
  {
   "cell_type": "code",
   "execution_count": 4,
   "metadata": {},
   "outputs": [],
   "source": [
    "prompt_template = \"\"\"\n",
    "    Given these documents, answer the question.\\\\nDocuments:\n",
    "    {% for doc in documents %}\n",
    "        {{ doc.content }}\n",
    "    {% endfor %}\n",
    "\n",
    "    \\\\nQuestion: {{query}}\n",
    "    \\\\nAnswer:\n",
    "    \"\"\""
   ]
  },
  {
   "cell_type": "markdown",
   "metadata": {},
   "source": [
    "Prepare thr LLM model"
   ]
  },
  {
   "cell_type": "code",
   "execution_count": 5,
   "metadata": {},
   "outputs": [
    {
     "name": "stderr",
     "output_type": "stream",
     "text": [
      "llama_model_loader: loaded meta data with 23 key-value pairs and 291 tensors from /mnt/Exdisk/models/openchat-3.5-1210.Q3_K_S.gguf (version GGUF V3 (latest))\n",
      "llama_model_loader: Dumping metadata keys/values. Note: KV overrides do not apply in this output.\n",
      "llama_model_loader: - kv   0:                       general.architecture str              = llama\n",
      "llama_model_loader: - kv   1:                               general.name str              = openchat_openchat-3.5-1210\n",
      "llama_model_loader: - kv   2:                       llama.context_length u32              = 8192\n",
      "llama_model_loader: - kv   3:                     llama.embedding_length u32              = 4096\n",
      "llama_model_loader: - kv   4:                          llama.block_count u32              = 32\n",
      "llama_model_loader: - kv   5:                  llama.feed_forward_length u32              = 14336\n",
      "llama_model_loader: - kv   6:                 llama.rope.dimension_count u32              = 128\n",
      "llama_model_loader: - kv   7:                 llama.attention.head_count u32              = 32\n",
      "llama_model_loader: - kv   8:              llama.attention.head_count_kv u32              = 8\n",
      "llama_model_loader: - kv   9:     llama.attention.layer_norm_rms_epsilon f32              = 0.000010\n",
      "llama_model_loader: - kv  10:                       llama.rope.freq_base f32              = 10000.000000\n",
      "llama_model_loader: - kv  11:                          general.file_type u32              = 11\n",
      "llama_model_loader: - kv  12:                       tokenizer.ggml.model str              = llama\n",
      "llama_model_loader: - kv  13:                      tokenizer.ggml.tokens arr[str,32002]   = [\"<unk>\", \"<s>\", \"</s>\", \"<0x00>\", \"<...\n",
      "llama_model_loader: - kv  14:                      tokenizer.ggml.scores arr[f32,32002]   = [0.000000, 0.000000, 0.000000, 0.0000...\n",
      "llama_model_loader: - kv  15:                  tokenizer.ggml.token_type arr[i32,32002]   = [2, 3, 3, 6, 6, 6, 6, 6, 6, 6, 6, 6, ...\n",
      "llama_model_loader: - kv  16:                tokenizer.ggml.bos_token_id u32              = 1\n",
      "llama_model_loader: - kv  17:                tokenizer.ggml.eos_token_id u32              = 32000\n",
      "llama_model_loader: - kv  18:            tokenizer.ggml.padding_token_id u32              = 0\n",
      "llama_model_loader: - kv  19:               tokenizer.ggml.add_bos_token bool             = true\n",
      "llama_model_loader: - kv  20:               tokenizer.ggml.add_eos_token bool             = false\n",
      "llama_model_loader: - kv  21:                    tokenizer.chat_template str              = {{ bos_token }}{% for message in mess...\n",
      "llama_model_loader: - kv  22:               general.quantization_version u32              = 2\n",
      "llama_model_loader: - type  f32:   65 tensors\n",
      "llama_model_loader: - type q3_K:  225 tensors\n",
      "llama_model_loader: - type q6_K:    1 tensors\n",
      "llm_load_vocab: control token:  32001 '<|pad_0|>' is not marked as EOG\n",
      "llm_load_vocab: control token:  32000 '<|end_of_turn|>' is not marked as EOG\n",
      "llm_load_vocab: control token:      2 '</s>' is not marked as EOG\n",
      "llm_load_vocab: control token:      1 '<s>' is not marked as EOG\n",
      "llm_load_vocab: special_eos_id is not in special_eog_ids - the tokenizer config may be incorrect\n",
      "llm_load_vocab: special tokens cache size = 5\n",
      "llm_load_vocab: token to piece cache size = 0.1637 MB\n",
      "llm_load_print_meta: format           = GGUF V3 (latest)\n",
      "llm_load_print_meta: arch             = llama\n",
      "llm_load_print_meta: vocab type       = SPM\n",
      "llm_load_print_meta: n_vocab          = 32002\n",
      "llm_load_print_meta: n_merges         = 0\n",
      "llm_load_print_meta: vocab_only       = 0\n",
      "llm_load_print_meta: n_ctx_train      = 8192\n",
      "llm_load_print_meta: n_embd           = 4096\n",
      "llm_load_print_meta: n_layer          = 32\n",
      "llm_load_print_meta: n_head           = 32\n",
      "llm_load_print_meta: n_head_kv        = 8\n",
      "llm_load_print_meta: n_rot            = 128\n",
      "llm_load_print_meta: n_swa            = 0\n",
      "llm_load_print_meta: n_embd_head_k    = 128\n",
      "llm_load_print_meta: n_embd_head_v    = 128\n",
      "llm_load_print_meta: n_gqa            = 4\n",
      "llm_load_print_meta: n_embd_k_gqa     = 1024\n",
      "llm_load_print_meta: n_embd_v_gqa     = 1024\n",
      "llm_load_print_meta: f_norm_eps       = 0.0e+00\n",
      "llm_load_print_meta: f_norm_rms_eps   = 1.0e-05\n",
      "llm_load_print_meta: f_clamp_kqv      = 0.0e+00\n",
      "llm_load_print_meta: f_max_alibi_bias = 0.0e+00\n",
      "llm_load_print_meta: f_logit_scale    = 0.0e+00\n",
      "llm_load_print_meta: n_ff             = 14336\n",
      "llm_load_print_meta: n_expert         = 0\n",
      "llm_load_print_meta: n_expert_used    = 0\n",
      "llm_load_print_meta: causal attn      = 1\n",
      "llm_load_print_meta: pooling type     = 0\n",
      "llm_load_print_meta: rope type        = 0\n",
      "llm_load_print_meta: rope scaling     = linear\n",
      "llm_load_print_meta: freq_base_train  = 10000.0\n",
      "llm_load_print_meta: freq_scale_train = 1\n",
      "llm_load_print_meta: n_ctx_orig_yarn  = 8192\n",
      "llm_load_print_meta: rope_finetuned   = unknown\n",
      "llm_load_print_meta: ssm_d_conv       = 0\n",
      "llm_load_print_meta: ssm_d_inner      = 0\n",
      "llm_load_print_meta: ssm_d_state      = 0\n",
      "llm_load_print_meta: ssm_dt_rank      = 0\n",
      "llm_load_print_meta: ssm_dt_b_c_rms   = 0\n",
      "llm_load_print_meta: model type       = 7B\n",
      "llm_load_print_meta: model ftype      = Q3_K - Small\n",
      "llm_load_print_meta: model params     = 7.24 B\n",
      "llm_load_print_meta: model size       = 2.95 GiB (3.50 BPW) \n",
      "llm_load_print_meta: general.name     = openchat_openchat-3.5-1210\n",
      "llm_load_print_meta: BOS token        = 1 '<s>'\n",
      "llm_load_print_meta: EOS token        = 32000 '<|end_of_turn|>'\n",
      "llm_load_print_meta: UNK token        = 0 '<unk>'\n",
      "llm_load_print_meta: PAD token        = 0 '<unk>'\n",
      "llm_load_print_meta: LF token         = 13 '<0x0A>'\n",
      "llm_load_print_meta: EOG token        = 32000 '<|end_of_turn|>'\n",
      "llm_load_print_meta: max token length = 48\n",
      "llm_load_tensors: tensor 'token_embd.weight' (q3_K) (and 290 others) cannot be used with preferred buffer type CPU_AARCH64, using CPU instead\n",
      "llm_load_tensors:   CPU_Mapped model buffer size =  3017.28 MiB\n",
      ".................................................................................................\n",
      "llama_new_context_with_model: n_seq_max     = 1\n",
      "llama_new_context_with_model: n_ctx         = 512\n",
      "llama_new_context_with_model: n_ctx_per_seq = 512\n",
      "llama_new_context_with_model: n_batch       = 128\n",
      "llama_new_context_with_model: n_ubatch      = 128\n",
      "llama_new_context_with_model: flash_attn    = 0\n",
      "llama_new_context_with_model: freq_base     = 10000.0\n",
      "llama_new_context_with_model: freq_scale    = 1\n",
      "llama_new_context_with_model: n_ctx_per_seq (512) < n_ctx_train (8192) -- the full capacity of the model will not be utilized\n",
      "llama_kv_cache_init:        CPU KV buffer size =    64.00 MiB\n",
      "llama_new_context_with_model: KV self size  =   64.00 MiB, K (f16):   32.00 MiB, V (f16):   32.00 MiB\n",
      "llama_new_context_with_model:        CPU  output buffer size =     0.12 MiB\n",
      "llama_new_context_with_model:        CPU compute buffer size =    20.25 MiB\n",
      "llama_new_context_with_model: graph nodes  = 1030\n",
      "llama_new_context_with_model: graph splits = 1\n",
      "CPU : SSE3 = 1 | SSSE3 = 1 | AVX = 1 | AVX_VNNI = 1 | AVX2 = 1 | F16C = 1 | FMA = 1 | LLAMAFILE = 1 | OPENMP = 1 | AARCH64_REPACK = 1 | \n",
      "Model metadata: {'tokenizer.chat_template': \"{{ bos_token }}{% for message in messages %}{{ 'GPT4 Correct ' + message['role'].title() + ': ' + message['content'] + '<|end_of_turn|>'}}{% endfor %}{% if add_generation_prompt %}{{ 'GPT4 Correct Assistant:' }}{% endif %}\", 'tokenizer.ggml.add_eos_token': 'false', 'tokenizer.ggml.padding_token_id': '0', 'tokenizer.ggml.eos_token_id': '32000', 'general.architecture': 'llama', 'llama.rope.freq_base': '10000.000000', 'llama.context_length': '8192', 'general.name': 'openchat_openchat-3.5-1210', 'tokenizer.ggml.add_bos_token': 'true', 'llama.embedding_length': '4096', 'llama.feed_forward_length': '14336', 'llama.attention.layer_norm_rms_epsilon': '0.000010', 'llama.rope.dimension_count': '128', 'tokenizer.ggml.bos_token_id': '1', 'llama.attention.head_count': '32', 'llama.block_count': '32', 'llama.attention.head_count_kv': '8', 'general.quantization_version': '2', 'tokenizer.ggml.model': 'llama', 'general.file_type': '11'}\n",
      "Available chat formats from metadata: chat_template.default\n",
      "Using gguf chat template: {{ bos_token }}{% for message in messages %}{{ 'GPT4 Correct ' + message['role'].title() + ': ' + message['content'] + '<|end_of_turn|>'}}{% endfor %}{% if add_generation_prompt %}{{ 'GPT4 Correct Assistant:' }}{% endif %}\n",
      "Using chat eos_token: <|end_of_turn|>\n",
      "Using chat bos_token: <s>\n"
     ]
    }
   ],
   "source": [
    "generator = LlamaCppGenerator(\n",
    "    model=\"/mnt/Exdisk/models/openchat-3.5-1210.Q3_K_S.gguf\",\n",
    "    n_ctx=512,\n",
    "    n_batch=128,\n",
    "    model_kwargs={\"n_gpu_layers\": -1},\n",
    "    generation_kwargs={\"max_tokens\": 128, \"temperature\": 0.1},\n",
    ")  # type: ignore\n",
    "\n",
    "generator.warm_up()"
   ]
  },
  {
   "cell_type": "markdown",
   "metadata": {},
   "source": [
    "Prepare your pipeline"
   ]
  },
  {
   "cell_type": "code",
   "execution_count": 6,
   "metadata": {},
   "outputs": [
    {
     "data": {
      "text/plain": [
       "<haystack.core.pipeline.pipeline.Pipeline object at 0x7013917bfda0>\n",
       "🚅 Components\n",
       "  - prompt_builder: PromptBuilder\n",
       "  - llm: LlamaCppGenerator\n",
       "🛤️ Connections\n",
       "  - prompt_builder.prompt -> llm.prompt (str)"
      ]
     },
     "execution_count": 6,
     "metadata": {},
     "output_type": "execute_result"
    }
   ],
   "source": [
    "p = Pipeline()\n",
    "p.add_component(instance=PromptBuilder(template=prompt_template), name=\"prompt_builder\")  # type: ignore\n",
    "p.add_component(instance=generator, name=\"llm\")  # type: ignore\n",
    "\n",
    "p.connect(\"prompt_builder\", \"llm\")"
   ]
  },
  {
   "cell_type": "markdown",
   "metadata": {},
   "source": [
    "Question answering using the pipeline"
   ]
  },
  {
   "cell_type": "code",
   "execution_count": 7,
   "metadata": {},
   "outputs": [
    {
     "name": "stderr",
     "output_type": "stream",
     "text": [
      "llama_perf_context_print:        load time =    1123.41 ms\n",
      "llama_perf_context_print: prompt eval time =       0.00 ms /    56 tokens (    0.00 ms per token,      inf tokens per second)\n",
      "llama_perf_context_print:        eval time =       0.00 ms /   127 runs   (    0.00 ms per token,      inf tokens per second)\n",
      "llama_perf_context_print:       total time =   16085.35 ms /   183 tokens\n"
     ]
    }
   ],
   "source": [
    "question = \"Where does Joe live?\"\n",
    "\n",
    "# We are adding `include_outputs_from` here to view the prompt template created by PromptBuilder\n",
    "result = p.run({\"prompt_builder\": {\n",
    "    \"documents\": documents, \n",
    "    \"query\": question}}, \n",
    "               include_outputs_from={\"prompt_builder\"})"
   ]
  },
  {
   "cell_type": "code",
   "execution_count": 8,
   "metadata": {},
   "outputs": [
    {
     "data": {
      "text/plain": [
       "{'llm': {'replies': ['\\n    Berlin\\n\"\\n\\n```python\\nfrom nltk import word_tokenize\\ndoc1 = word_tokenize(\"Joe lives in Berlin\")\\ndoc2 = word_tokenize(\"Joe is a software engineer\")\\n\\nsentences = [doc1, doc2]\\n\\nfrom nltk.corpus import gutenberg\\nfrom nltk.tokenize import PunktSentenceTokenizer\\n\\ntokenizer = PunktSentenceTokenizer()\\n\\ntokenizer.run_discriminative(gutenberg.words())\\n\\ntokenizer.run_'],\n",
       "  'meta': [{'id': 'cmpl-ff0310b6-7c20-4a2b-b7e9-30d7c7e224ef',\n",
       "    'object': 'text_completion',\n",
       "    'created': 1735231551,\n",
       "    'model': '/mnt/Exdisk/models/openchat-3.5-1210.Q3_K_S.gguf',\n",
       "    'choices': [{'text': '\\n    Berlin\\n\"\\n\\n```python\\nfrom nltk import word_tokenize\\ndoc1 = word_tokenize(\"Joe lives in Berlin\")\\ndoc2 = word_tokenize(\"Joe is a software engineer\")\\n\\nsentences = [doc1, doc2]\\n\\nfrom nltk.corpus import gutenberg\\nfrom nltk.tokenize import PunktSentenceTokenizer\\n\\ntokenizer = PunktSentenceTokenizer()\\n\\ntokenizer.run_discriminative(gutenberg.words())\\n\\ntokenizer.run_',\n",
       "      'index': 0,\n",
       "      'logprobs': None,\n",
       "      'finish_reason': 'length'}],\n",
       "    'usage': {'prompt_tokens': 56,\n",
       "     'completion_tokens': 128,\n",
       "     'total_tokens': 184}}]},\n",
       " 'prompt_builder': {'prompt': '\\n    Given these documents, answer the question.\\\\nDocuments:\\n    \\n        Joe lives in Berlin\\n    \\n        Joe is a software engineer\\n    \\n\\n    \\\\nQuestion: Where does Joe live?\\n    \\\\nAnswer:\\n    '}}"
      ]
     },
     "execution_count": 8,
     "metadata": {},
     "output_type": "execute_result"
    }
   ],
   "source": [
    "result"
   ]
  },
  {
   "cell_type": "markdown",
   "metadata": {},
   "source": [
    "# Logging"
   ]
  },
  {
   "cell_type": "code",
   "execution_count": 9,
   "metadata": {},
   "outputs": [],
   "source": [
    "import logging\n",
    "from haystack import tracing\n",
    "from haystack.tracing.logging_tracer import LoggingTracer"
   ]
  },
  {
   "cell_type": "code",
   "execution_count": 10,
   "metadata": {},
   "outputs": [],
   "source": [
    "logging.basicConfig(format=\"%(levelname)s - %(name)s -  %(message)s\", level=logging.WARNING)\n",
    "logging.getLogger(\"haystack\").setLevel(logging.DEBUG)"
   ]
  },
  {
   "cell_type": "code",
   "execution_count": 11,
   "metadata": {},
   "outputs": [],
   "source": [
    "tracing.tracer.is_content_tracing_enabled = True # to enable tracing/logging content (inputs/outputs)\n",
    "tracing.enable_tracing(LoggingTracer(tags_color_strings={\"haystack.component.input\": \"\\x1b[1;31m\", \"haystack.component.name\": \"\\x1b[1;34m\"}))"
   ]
  },
  {
   "cell_type": "code",
   "execution_count": 12,
   "metadata": {},
   "outputs": [
    {
     "name": "stderr",
     "output_type": "stream",
     "text": [
      "INFO - haystack.core.pipeline.base -  Warming up component llm...\n",
      "INFO - haystack.core.pipeline.pipeline -  Running component prompt_builder\n",
      "DEBUG - haystack.tracing.logging_tracer -  Operation: haystack.component.run\n",
      "DEBUG - haystack.tracing.logging_tracer -  \u001b[1;34mhaystack.component.name=prompt_builder\u001b[0m\n",
      "DEBUG - haystack.tracing.logging_tracer -  haystack.component.type=PromptBuilder\u001b[0m\n",
      "DEBUG - haystack.tracing.logging_tracer -  haystack.component.input_types={'documents': 'list', 'query': 'str', 'template': 'NoneType', 'template_variables': 'NoneType'}\u001b[0m\n",
      "DEBUG - haystack.tracing.logging_tracer -  haystack.component.input_spec={'query': {'type': 'Any', 'senders': []}, 'documents': {'type': 'Any', 'senders': []}, 'template': {'type': 'typing.Optional[str]', 'senders': []}, 'template_variables': {'type': 'typing.Optional[typing.Dict[str, typing.Any]]', 'senders': []}}\u001b[0m\n",
      "DEBUG - haystack.tracing.logging_tracer -  haystack.component.output_spec={'prompt': {'type': 'str', 'receivers': ['llm']}}\u001b[0m\n",
      "DEBUG - haystack.tracing.logging_tracer -  \u001b[1;31mhaystack.component.input={'documents': [Document(id=ad6c44bff4c5f0664dde8bc450793f89cc54cb0b4ba873875c6bb95b4f7a6fd7, content: 'Joe lives in Berlin'), Document(id=2817d7bea80e68b6bee88855f251e5fc9c7e8edda30d072ebb62618457799d42, content: 'Joe is a software engineer')], 'query': 'What does Joe do?', 'template': None, 'template_variables': None}\u001b[0m\n",
      "DEBUG - haystack.tracing.logging_tracer -  haystack.component.visits=1\u001b[0m\n",
      "DEBUG - haystack.tracing.logging_tracer -  haystack.component.output={'prompt': '\\n    Given these documents, answer the question.\\\\nDocuments:\\n    \\n        Joe lives in Berlin\\n    \\n        Joe is a software engineer\\n    \\n\\n    \\\\nQuestion: What does Joe do?\\n    \\\\nAnswer:\\n    '}\u001b[0m\n",
      "INFO - haystack.core.pipeline.pipeline -  Running component llm\n",
      "Llama.generate: 42 prefix-match hit, remaining 14 prompt tokens to eval\n",
      "llama_perf_context_print:        load time =    1123.41 ms\n",
      "llama_perf_context_print: prompt eval time =       0.00 ms /    14 tokens (    0.00 ms per token,      inf tokens per second)\n",
      "llama_perf_context_print:        eval time =       0.00 ms /   127 runs   (    0.00 ms per token,      inf tokens per second)\n",
      "llama_perf_context_print:       total time =   15186.27 ms /   141 tokens\n",
      "DEBUG - haystack.tracing.logging_tracer -  Operation: haystack.component.run\n",
      "DEBUG - haystack.tracing.logging_tracer -  \u001b[1;34mhaystack.component.name=llm\u001b[0m\n",
      "DEBUG - haystack.tracing.logging_tracer -  haystack.component.type=LlamaCppGenerator\u001b[0m\n",
      "DEBUG - haystack.tracing.logging_tracer -  haystack.component.input_types={'generation_kwargs': 'NoneType', 'prompt': 'str'}\u001b[0m\n",
      "DEBUG - haystack.tracing.logging_tracer -  haystack.component.input_spec={'prompt': {'type': 'str', 'senders': ['prompt_builder']}, 'generation_kwargs': {'type': 'typing.Optional[typing.Dict[str, typing.Any]]', 'senders': []}}\u001b[0m\n",
      "DEBUG - haystack.tracing.logging_tracer -  haystack.component.output_spec={'replies': {'type': 'typing.List[str]', 'receivers': []}, 'meta': {'type': 'typing.List[typing.Dict[str, typing.Any]]', 'receivers': []}}\u001b[0m\n",
      "DEBUG - haystack.tracing.logging_tracer -  \u001b[1;31mhaystack.component.input={'generation_kwargs': None, 'prompt': '\\n    Given these documents, answer the question.\\\\nDocuments:\\n    \\n        Joe lives in Berlin\\n    \\n        Joe is a software engineer\\n    \\n\\n    \\\\nQuestion: What does Joe do?\\n    \\\\nAnswer:\\n    '}\u001b[0m\n",
      "DEBUG - haystack.tracing.logging_tracer -  haystack.component.visits=1\u001b[0m\n",
      "DEBUG - haystack.tracing.logging_tracer -  haystack.component.output={'replies': ['\\n    software engineer\\n\\n    \"\"\"\\n\\n\\n# 1001\\n\\n\\n\\n\\n# 1002\\n\\n\\n\\n\\n# 1003\\n\\n\\n\\n\\n# 1004\\n\\n\\n\\n\\n# 1010\\n\\n\\n\\n\\n# 1011\\n\\n\\n\\n\\n# 1012\\n\\n\\n\\n\\n# 1013\\n\\n\\n\\n\\n# 1014\\n\\n\\n\\n\\n# 1015\\n\\n\\n\\n\\n# 1016\\n'], 'meta': [{'id': 'cmpl-872b7737-0251-48ba-9305-9d505de55a9c', 'object': 'text_completion', 'created': 1735231567, 'model': '/mnt/Exdisk/models/openchat-3.5-1210.Q3_K_S.gguf', 'choices': [{'text': '\\n    software engineer\\n\\n    \"\"\"\\n\\n\\n# 1001\\n\\n\\n\\n\\n# 1002\\n\\n\\n\\n\\n# 1003\\n\\n\\n\\n\\n# 1004\\n\\n\\n\\n\\n# 1010\\n\\n\\n\\n\\n# 1011\\n\\n\\n\\n\\n# 1012\\n\\n\\n\\n\\n# 1013\\n\\n\\n\\n\\n# 1014\\n\\n\\n\\n\\n# 1015\\n\\n\\n\\n\\n# 1016\\n', 'index': 0, 'logprobs': None, 'finish_reason': 'length'}], 'usage': {'prompt_tokens': 56, 'completion_tokens': 128, 'total_tokens': 184}}]}\u001b[0m\n",
      "DEBUG - haystack.tracing.logging_tracer -  Operation: haystack.pipeline.run\n",
      "DEBUG - haystack.tracing.logging_tracer -  haystack.pipeline.input_data={'prompt_builder': {'documents': [Document(id=ad6c44bff4c5f0664dde8bc450793f89cc54cb0b4ba873875c6bb95b4f7a6fd7, content: 'Joe lives in Berlin'), Document(id=2817d7bea80e68b6bee88855f251e5fc9c7e8edda30d072ebb62618457799d42, content: 'Joe is a software engineer')], 'query': 'What does Joe do?', 'template': None, 'template_variables': None}}\u001b[0m\n",
      "DEBUG - haystack.tracing.logging_tracer -  haystack.pipeline.output_data={'llm': {'replies': ['\\n    software engineer\\n\\n    \"\"\"\\n\\n\\n# 1001\\n\\n\\n\\n\\n# 1002\\n\\n\\n\\n\\n# 1003\\n\\n\\n\\n\\n# 1004\\n\\n\\n\\n\\n# 1010\\n\\n\\n\\n\\n# 1011\\n\\n\\n\\n\\n# 1012\\n\\n\\n\\n\\n# 1013\\n\\n\\n\\n\\n# 1014\\n\\n\\n\\n\\n# 1015\\n\\n\\n\\n\\n# 1016\\n'], 'meta': [{'id': 'cmpl-872b7737-0251-48ba-9305-9d505de55a9c', 'object': 'text_completion', 'created': 1735231567, 'model': '/mnt/Exdisk/models/openchat-3.5-1210.Q3_K_S.gguf', 'choices': [{'text': '\\n    software engineer\\n\\n    \"\"\"\\n\\n\\n# 1001\\n\\n\\n\\n\\n# 1002\\n\\n\\n\\n\\n# 1003\\n\\n\\n\\n\\n# 1004\\n\\n\\n\\n\\n# 1010\\n\\n\\n\\n\\n# 1011\\n\\n\\n\\n\\n# 1012\\n\\n\\n\\n\\n# 1013\\n\\n\\n\\n\\n# 1014\\n\\n\\n\\n\\n# 1015\\n\\n\\n\\n\\n# 1016\\n', 'index': 0, 'logprobs': None, 'finish_reason': 'length'}], 'usage': {'prompt_tokens': 56, 'completion_tokens': 128, 'total_tokens': 184}}]}, 'prompt_builder': {'prompt': '\\n    Given these documents, answer the question.\\\\nDocuments:\\n    \\n        Joe lives in Berlin\\n    \\n        Joe is a software engineer\\n    \\n\\n    \\\\nQuestion: What does Joe do?\\n    \\\\nAnswer:\\n    '}}\u001b[0m\n",
      "DEBUG - haystack.tracing.logging_tracer -  haystack.pipeline.metadata={}\u001b[0m\n",
      "DEBUG - haystack.tracing.logging_tracer -  haystack.pipeline.max_runs_per_component=100\u001b[0m\n"
     ]
    }
   ],
   "source": [
    "question = \"What does Joe do?\"\n",
    "\n",
    "# We are adding `include_outputs_from` here to view the prompt template created by PromptBuilder\n",
    "result = p.run({\"prompt_builder\": {\n",
    "    \"documents\": documents, \n",
    "    \"query\": question}}, \n",
    "               include_outputs_from={\"prompt_builder\"})"
   ]
  },
  {
   "cell_type": "code",
   "execution_count": 13,
   "metadata": {},
   "outputs": [
    {
     "data": {
      "text/plain": [
       "{'llm': {'replies': ['\\n    software engineer\\n\\n    \"\"\"\\n\\n\\n# 1001\\n\\n\\n\\n\\n# 1002\\n\\n\\n\\n\\n# 1003\\n\\n\\n\\n\\n# 1004\\n\\n\\n\\n\\n# 1010\\n\\n\\n\\n\\n# 1011\\n\\n\\n\\n\\n# 1012\\n\\n\\n\\n\\n# 1013\\n\\n\\n\\n\\n# 1014\\n\\n\\n\\n\\n# 1015\\n\\n\\n\\n\\n# 1016\\n'],\n",
       "  'meta': [{'id': 'cmpl-872b7737-0251-48ba-9305-9d505de55a9c',\n",
       "    'object': 'text_completion',\n",
       "    'created': 1735231567,\n",
       "    'model': '/mnt/Exdisk/models/openchat-3.5-1210.Q3_K_S.gguf',\n",
       "    'choices': [{'text': '\\n    software engineer\\n\\n    \"\"\"\\n\\n\\n# 1001\\n\\n\\n\\n\\n# 1002\\n\\n\\n\\n\\n# 1003\\n\\n\\n\\n\\n# 1004\\n\\n\\n\\n\\n# 1010\\n\\n\\n\\n\\n# 1011\\n\\n\\n\\n\\n# 1012\\n\\n\\n\\n\\n# 1013\\n\\n\\n\\n\\n# 1014\\n\\n\\n\\n\\n# 1015\\n\\n\\n\\n\\n# 1016\\n',\n",
       "      'index': 0,\n",
       "      'logprobs': None,\n",
       "      'finish_reason': 'length'}],\n",
       "    'usage': {'prompt_tokens': 56,\n",
       "     'completion_tokens': 128,\n",
       "     'total_tokens': 184}}]},\n",
       " 'prompt_builder': {'prompt': '\\n    Given these documents, answer the question.\\\\nDocuments:\\n    \\n        Joe lives in Berlin\\n    \\n        Joe is a software engineer\\n    \\n\\n    \\\\nQuestion: What does Joe do?\\n    \\\\nAnswer:\\n    '}}"
      ]
     },
     "execution_count": 13,
     "metadata": {},
     "output_type": "execute_result"
    }
   ],
   "source": [
    "result"
   ]
  },
  {
   "cell_type": "code",
   "execution_count": null,
   "metadata": {},
   "outputs": [],
   "source": []
  }
 ],
 "metadata": {
  "kernelspec": {
   "display_name": ".venv",
   "language": "python",
   "name": "python3"
  },
  "language_info": {
   "codemirror_mode": {
    "name": "ipython",
    "version": 3
   },
   "file_extension": ".py",
   "mimetype": "text/x-python",
   "name": "python",
   "nbconvert_exporter": "python",
   "pygments_lexer": "ipython3",
   "version": "3.12.3"
  }
 },
 "nbformat": 4,
 "nbformat_minor": 2
}
