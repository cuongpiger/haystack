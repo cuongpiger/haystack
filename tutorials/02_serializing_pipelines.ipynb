{
 "cells": [
  {
   "cell_type": "code",
   "execution_count": 1,
   "metadata": {},
   "outputs": [],
   "source": [
    "%load_ext autoreload\n",
    "%autoreload 2"
   ]
  },
  {
   "cell_type": "markdown",
   "metadata": {},
   "source": [
    "Import dependencies"
   ]
  },
  {
   "cell_type": "code",
   "execution_count": 2,
   "metadata": {},
   "outputs": [],
   "source": [
    "from haystack import component"
   ]
  },
  {
   "cell_type": "markdown",
   "metadata": {},
   "source": [
    "Pipelines and components in Haystack can serialize simple components, including custom ones, out of the box. Code like this just work."
   ]
  },
  {
   "cell_type": "code",
   "execution_count": 3,
   "metadata": {},
   "outputs": [],
   "source": [
    "@component\n",
    "class RepeatWordComponent:\n",
    "    def __init__(self, times: int):\n",
    "        self.times: int = times\n",
    "        \n",
    "    @component.output_types(result=str)\n",
    "    def run(self, word: str) -> str:\n",
    "        return word * self.times"
   ]
  },
  {
   "cell_type": "markdown",
   "metadata": {},
   "source": [
    "On the other hand, this code does not work if the final format is JSON, as the `set` type is not JSON serializable.\n",
    "\n",
    "```python\n",
    "@component\n",
    "class SetIntersector:\n",
    "    def __init__(self, intersect_with: set):\n",
    "        self.intersect_with = intersect_with\n",
    "\n",
    "    @component.output_types(result=set)\n",
    "    def run(self, data: set):\n",
    "        return data.intersection(self.intersect_with)\n",
    "```"
   ]
  },
  {
   "cell_type": "markdown",
   "metadata": {},
   "source": [
    "In such cases, you can provide your own implementation `from_dict` and `to_dict` to components:"
   ]
  },
  {
   "cell_type": "code",
   "execution_count": 4,
   "metadata": {},
   "outputs": [],
   "source": [
    "from haystack import component, default_to_dict, default_from_dict"
   ]
  },
  {
   "cell_type": "code",
   "execution_count": 5,
   "metadata": {},
   "outputs": [],
   "source": [
    "class SetIntersector:\n",
    "    def __init__(self, intersect_with: set) -> None:\n",
    "        self.intersect_with: set = intersect_with\n",
    "        \n",
    "    @component.output_types(result=set)\n",
    "    def run(self, data: set) -> set:\n",
    "        return data.intersection(self.intersect_with)\n",
    "    \n",
    "    def to_dict(self):\n",
    "        return default_to_dict(self, intersect_with=list(self.intersect_with))\n",
    "    \n",
    "    @classmethod\n",
    "    def from_dict(cls, data):\n",
    "        # convert the set into a list for the dict representation, so it can be converted to JSON\n",
    "        data['intersect_with'] = set(data['intersect_with'])\n",
    "        return default_from_dict(cls, data)"
   ]
  },
  {
   "cell_type": "markdown",
   "metadata": {},
   "source": [
    "Saving the pipeline to a **custom format**. Once a pipeline is available its dictionary format, the last step of serialization is to convert that dictionary into a format you can store or send over the wire. Haystack support YAML out of the box, but if you need a different format, you can write a custom **marshaller**.\n",
    "\n",
    "A `Marshaller` is a Python class responsible for converting text to a dictionary and a dictionary to text according to a certain format. Marshallers must respect the `Marshaller` protocol, providing the methods `marshal` and `unmarshal`.\n",
    "\n",
    "This is the code for a custom TOML marshaller that relies on the `rtoml` library."
   ]
  },
  {
   "cell_type": "code",
   "execution_count": 6,
   "metadata": {},
   "outputs": [],
   "source": [
    "from typing import Dict, Any, Union\n",
    "import rtoml"
   ]
  },
  {
   "cell_type": "code",
   "execution_count": 7,
   "metadata": {},
   "outputs": [],
   "source": [
    "class TomlMarshaller:\n",
    "    def marshal(self, dict_: Dict[str, Any]) -> str:\n",
    "        return rtoml.dumps(dict_)\n",
    "    \n",
    "    def unmarshal(self, data_: Union[str, bytes]) -> Dict[str, Any]:\n",
    "        return rtoml.loads(data_)"
   ]
  },
  {
   "cell_type": "markdown",
   "metadata": {},
   "source": [
    "You can then pass a Marshaller instance to the methods `dump`, `dumps`, `load`, and `loads` of the `Pipeline` class."
   ]
  },
  {
   "cell_type": "code",
   "execution_count": 8,
   "metadata": {},
   "outputs": [],
   "source": [
    "from haystack import Pipeline"
   ]
  },
  {
   "cell_type": "code",
   "execution_count": 9,
   "metadata": {},
   "outputs": [
    {
     "data": {
      "text/plain": [
       "'max_runs_per_component = 100\\nconnections = []\\n\\n[metadata]\\n\\n[components]\\n'"
      ]
     },
     "execution_count": 9,
     "metadata": {},
     "output_type": "execute_result"
    }
   ],
   "source": [
    "pipe = Pipeline()\n",
    "pipe.dumps(TomlMarshaller())"
   ]
  },
  {
   "cell_type": "code",
   "execution_count": null,
   "metadata": {},
   "outputs": [],
   "source": []
  }
 ],
 "metadata": {
  "kernelspec": {
   "display_name": "Python 3",
   "language": "python",
   "name": "python3"
  },
  "language_info": {
   "codemirror_mode": {
    "name": "ipython",
    "version": 3
   },
   "file_extension": ".py",
   "mimetype": "text/x-python",
   "name": "python",
   "nbconvert_exporter": "python",
   "pygments_lexer": "ipython3",
   "version": "3.11.11"
  }
 },
 "nbformat": 4,
 "nbformat_minor": 2
}
