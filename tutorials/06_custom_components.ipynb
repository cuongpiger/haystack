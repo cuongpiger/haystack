{
 "cells": [
  {
   "cell_type": "markdown",
   "metadata": {},
   "source": [
    "# Creating custom resources"
   ]
  },
  {
   "cell_type": "code",
   "execution_count": 1,
   "metadata": {},
   "outputs": [],
   "source": [
    "%load_ext autoreload\n",
    "%autoreload 2"
   ]
  },
  {
   "cell_type": "markdown",
   "metadata": {},
   "source": [
    "Import dependencies"
   ]
  },
  {
   "cell_type": "code",
   "execution_count": 6,
   "metadata": {},
   "outputs": [],
   "source": [
    "from haystack import component, Pipeline\n",
    "from typing import List"
   ]
  },
  {
   "cell_type": "markdown",
   "metadata": {},
   "source": [
    "Create a custom resource"
   ]
  },
  {
   "cell_type": "code",
   "execution_count": 3,
   "metadata": {},
   "outputs": [],
   "source": [
    "@component\n",
    "class WelcomeTextGenerator:\n",
    "    \"\"\"\n",
    "    A component generating personal welcome message and making it upper case\n",
    "    \"\"\"\n",
    "    @component.output_types(welcome_text=str, note=str)\n",
    "    def run(self, name: str):\n",
    "        return {\n",
    "            \"welcome_text\": f\"Hello {name}, welcome to Haystack!\".upper(),\n",
    "            \"note\": \"Welcome message is ready\"\n",
    "        }"
   ]
  },
  {
   "cell_type": "code",
   "execution_count": null,
   "metadata": {},
   "outputs": [],
   "source": [
    "@component\n",
    "class WhitespaceSplitter:\n",
    "    \"\"\"\n",
    "    A component for splitting the text by whitespace\n",
    "    \"\"\"\n",
    "    @component.output_types(splitted_text=List[str])\n",
    "    def run(self, text:str):\n",
    "        return {\n",
    "            \"splitted_text\": text.split()\n",
    "        }"
   ]
  },
  {
   "cell_type": "code",
   "execution_count": 7,
   "metadata": {},
   "outputs": [
    {
     "data": {
      "text/plain": [
       "<haystack.core.pipeline.pipeline.Pipeline object at 0x7c64d55f11f0>\n",
       "🚅 Components\n",
       "  - welcome_text_generator: WelcomeTextGenerator\n",
       "  - splitter: WhitespaceSplitter\n",
       "🛤️ Connections\n",
       "  - welcome_text_generator.welcome_text -> splitter.text (str)"
      ]
     },
     "execution_count": 7,
     "metadata": {},
     "output_type": "execute_result"
    }
   ],
   "source": [
    "text_pipeline = Pipeline()\n",
    "text_pipeline.add_component(name=\"welcome_text_generator\", instance=WelcomeTextGenerator())\n",
    "text_pipeline.add_component(name=\"splitter\", instance=WhitespaceSplitter())\n",
    "\n",
    "text_pipeline.connect(sender=\"welcome_text_generator.welcome_text\", receiver=\"splitter.text\")"
   ]
  },
  {
   "cell_type": "code",
   "execution_count": 8,
   "metadata": {},
   "outputs": [],
   "source": [
    "result = text_pipeline.run({\n",
    "    \"welcome_text_generator\": {\n",
    "        \"name\": \"Cuong\"\n",
    "    }\n",
    "})"
   ]
  },
  {
   "cell_type": "code",
   "execution_count": 9,
   "metadata": {},
   "outputs": [
    {
     "name": "stdout",
     "output_type": "stream",
     "text": [
      "['HELLO', 'CUONG,', 'WELCOME', 'TO', 'HAYSTACK!']\n"
     ]
    }
   ],
   "source": [
    "print(result[\"splitter\"][\"splitted_text\"])"
   ]
  },
  {
   "cell_type": "markdown",
   "metadata": {},
   "source": []
  }
 ],
 "metadata": {
  "kernelspec": {
   "display_name": ".venv",
   "language": "python",
   "name": "python3"
  },
  "language_info": {
   "codemirror_mode": {
    "name": "ipython",
    "version": 3
   },
   "file_extension": ".py",
   "mimetype": "text/x-python",
   "name": "python",
   "nbconvert_exporter": "python",
   "pygments_lexer": "ipython3",
   "version": "3.12.3"
  }
 },
 "nbformat": 4,
 "nbformat_minor": 2
}
