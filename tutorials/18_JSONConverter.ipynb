{
 "cells": [
  {
   "cell_type": "markdown",
   "metadata": {},
   "source": [
    "# `JSONConverter`\n"
   ]
  },
  {
   "cell_type": "code",
   "execution_count": 1,
   "metadata": {},
   "outputs": [],
   "source": [
    "%load_ext autoreload\n",
    "%autoreload 2"
   ]
  },
  {
   "cell_type": "markdown",
   "metadata": {},
   "source": [
    "## On its own\n"
   ]
  },
  {
   "cell_type": "code",
   "execution_count": 2,
   "metadata": {},
   "outputs": [],
   "source": [
    "import json\n",
    "\n",
    "from haystack.components.converters import JSONConverter\n",
    "from haystack.dataclasses import ByteStream"
   ]
  },
  {
   "cell_type": "code",
   "execution_count": 3,
   "metadata": {},
   "outputs": [],
   "source": [
    "source = ByteStream.from_string(json.dumps({\"text\": \"This is the content of my document\"}))\n",
    "converter = JSONConverter(content_key=\"text\")"
   ]
  },
  {
   "cell_type": "code",
   "execution_count": 4,
   "metadata": {},
   "outputs": [],
   "source": [
    "results = converter.run(sources=[source])\n",
    "documents = results[\"documents\"]"
   ]
  },
  {
   "cell_type": "code",
   "execution_count": 5,
   "metadata": {},
   "outputs": [
    {
     "name": "stdout",
     "output_type": "stream",
     "text": [
      "This is the content of my document\n"
     ]
    }
   ],
   "source": [
    "print(documents[0].content)"
   ]
  },
  {
   "cell_type": "code",
   "execution_count": 6,
   "metadata": {},
   "outputs": [
    {
     "data": {
      "text/plain": [
       "{'id': 'd0f06b8927ad2a3a1be0d5adcbe2a5676f68b19c43cb1cafcd0fad4987a5b5e5',\n",
       " 'content': 'This is the content of my document',\n",
       " 'dataframe': None,\n",
       " 'blob': None,\n",
       " 'score': None,\n",
       " 'embedding': None,\n",
       " 'sparse_embedding': None}"
      ]
     },
     "execution_count": 6,
     "metadata": {},
     "output_type": "execute_result"
    }
   ],
   "source": [
    "documents[0].to_dict()"
   ]
  },
  {
   "cell_type": "code",
   "execution_count": 8,
   "metadata": {},
   "outputs": [],
   "source": [
    "data = {\n",
    "    \"laureates\": [\n",
    "        {\n",
    "        \"firstname\": \"Enrico\",\n",
    "        \"surname\": \"Fermi\",\n",
    "        \"motivation\": \"for his demonstrations of the existence of new radioactive elements produced \"\n",
    "        \"by neutron irradiation, and for his related discovery of nuclear reactions brought about by\"\n",
    "        \" slow neutrons\",\n",
    "    },\n",
    "    {\n",
    "        \"firstname\": \"Rita\",\n",
    "        \"surname\": \"Levi-Montalcini\",\n",
    "        \"motivation\": \"for their discoveries of growth factors\",\n",
    "    }],\n",
    "}\n",
    "source = ByteStream.from_string(json.dumps(data))\n",
    "converter = JSONConverter(\n",
    "    jq_schema=\".laureates[]\", content_key=\"motivation\", extra_meta_fields={\"firstname\", \"surname\"}\n",
    ")"
   ]
  },
  {
   "cell_type": "code",
   "execution_count": 9,
   "metadata": {},
   "outputs": [],
   "source": [
    "results = converter.run(sources=[source])\n",
    "documents = results[\"documents\"]"
   ]
  },
  {
   "cell_type": "code",
   "execution_count": 10,
   "metadata": {},
   "outputs": [
    {
     "name": "stdout",
     "output_type": "stream",
     "text": [
      "for his demonstrations of the existence of new radioactive elements produced by neutron irradiation, and for his related discovery of nuclear reactions brought about by slow neutrons\n"
     ]
    }
   ],
   "source": [
    "print(documents[0].content)"
   ]
  },
  {
   "cell_type": "code",
   "execution_count": 11,
   "metadata": {},
   "outputs": [
    {
     "name": "stdout",
     "output_type": "stream",
     "text": [
      "{'surname': 'Fermi', 'firstname': 'Enrico'}\n",
      "for their discoveries of growth factors\n",
      "{'surname': 'Levi-Montalcini', 'firstname': 'Rita'}\n"
     ]
    }
   ],
   "source": [
    "print(documents[0].meta)\n",
    "# {'firstname': 'Enrico', 'surname': 'Fermi'}\n",
    "\n",
    "print(documents[1].content)\n",
    "# 'for their discoveries of growth factors'\n",
    "\n",
    "print(documents[1].meta)"
   ]
  },
  {
   "cell_type": "code",
   "execution_count": 12,
   "metadata": {},
   "outputs": [
    {
     "data": {
      "text/plain": [
       "{'id': '7d0438b77978d8e6dc505a8edbea1e6ab5eee54f4679992f01cdf88bf7226a95',\n",
       " 'content': 'for his demonstrations of the existence of new radioactive elements produced by neutron irradiation, and for his related discovery of nuclear reactions brought about by slow neutrons',\n",
       " 'dataframe': None,\n",
       " 'blob': None,\n",
       " 'score': None,\n",
       " 'embedding': None,\n",
       " 'sparse_embedding': None,\n",
       " 'surname': 'Fermi',\n",
       " 'firstname': 'Enrico'}"
      ]
     },
     "execution_count": 12,
     "metadata": {},
     "output_type": "execute_result"
    }
   ],
   "source": [
    "documents[0].to_dict()"
   ]
  },
  {
   "cell_type": "code",
   "execution_count": null,
   "metadata": {},
   "outputs": [],
   "source": []
  }
 ],
 "metadata": {
  "kernelspec": {
   "display_name": ".venv",
   "language": "python",
   "name": "python3"
  },
  "language_info": {
   "codemirror_mode": {
    "name": "ipython",
    "version": 3
   },
   "file_extension": ".py",
   "mimetype": "text/x-python",
   "name": "python",
   "nbconvert_exporter": "python",
   "pygments_lexer": "ipython3",
   "version": "3.12.3"
  }
 },
 "nbformat": 4,
 "nbformat_minor": 2
}
