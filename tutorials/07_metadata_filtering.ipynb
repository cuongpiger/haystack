{
 "cells": [
  {
   "cell_type": "markdown",
   "metadata": {},
   "source": [
    "# Metadata filtering"
   ]
  },
  {
   "cell_type": "code",
   "execution_count": 1,
   "metadata": {},
   "outputs": [],
   "source": [
    "%load_ext autoreload\n",
    "%autoreload 2"
   ]
  },
  {
   "cell_type": "markdown",
   "metadata": {},
   "source": [
    "Import dependencies"
   ]
  },
  {
   "cell_type": "code",
   "execution_count": 2,
   "metadata": {},
   "outputs": [],
   "source": [
    "from haystack import component, Pipeline, Document\n",
    "from typing import List\n",
    "from haystack.document_stores.in_memory import InMemoryDocumentStore"
   ]
  },
  {
   "cell_type": "markdown",
   "metadata": {},
   "source": [
    "Create a custom resource"
   ]
  },
  {
   "cell_type": "code",
   "execution_count": 3,
   "metadata": {},
   "outputs": [],
   "source": [
    "document_store = InMemoryDocumentStore()"
   ]
  },
  {
   "cell_type": "code",
   "execution_count": 4,
   "metadata": {},
   "outputs": [
    {
     "data": {
      "text/plain": [
       "6"
      ]
     },
     "execution_count": 4,
     "metadata": {},
     "output_type": "execute_result"
    }
   ],
   "source": [
    "document_store.write_documents(\n",
    "    [\n",
    "        Document(content=\"Is there a way to prevent the model from overfitting?\",\n",
    "                 meta={\"type\": \"question\",\"domain\": \"ai\"}),\n",
    "        Document(content=\"How can I reduce the overfitting of my model?\",\n",
    "                 meta={\"type\": \"question\",\"domain\": \"ai\"}),\n",
    "        Document(content=\"How to avoid overfitting in my model?\",\n",
    "                 meta={\"type\": \"question\",\"domain\": \"ai\"}),\n",
    "        Document(content=\"To avoid overfitting, you can use techniques like early stopping and dropout.\",\n",
    "                 meta={\"type\": \"answer\",\"domain\": \"ai\"}),\n",
    "        Document(content=\"Kubernetes is a portable, extensible, open-source platform for managing containerized workloads and services, that facilitates both declarative configuration and automation.\",\n",
    "                 meta={\"type\": \"answer\",\"domain\": \"cloud\"}),\n",
    "        Document(content=\"Harry Potter is a series of seven fantasy novels written by British author, J. K. Rowling.\",\n",
    "                 meta={\"type\": \"answer\",\"domain\": \"books\"}),\n",
    "    ]\n",
    ")"
   ]
  },
  {
   "cell_type": "code",
   "execution_count": 5,
   "metadata": {},
   "outputs": [
    {
     "data": {
      "text/plain": [
       "[Document(id=dda826befdf17b88a9d7394afd0f5f3073cbef06c8937083540dce0a9397c0d0, content: 'Is there a way to prevent the model from overfitting?', meta: {'type': 'question', 'domain': 'ai'}),\n",
       " Document(id=2cce5b2bb65191b25dc48ba8668d7f58ead16366077f6a9a56b0e1e57df06640, content: 'How can I reduce the overfitting of my model?', meta: {'type': 'question', 'domain': 'ai'}),\n",
       " Document(id=05eefcbe95ff6ff8bc7b458b9a0ab0db8fae8d88809b476ee7debb3503e6b614, content: 'How to avoid overfitting in my model?', meta: {'type': 'question', 'domain': 'ai'}),\n",
       " Document(id=44c7664ebb6ed84959e9baf2108b5161338586445b3c59078a117791c08aaff4, content: 'To avoid overfitting, you can use techniques like early stopping and dropout.', meta: {'type': 'answer', 'domain': 'ai'}),\n",
       " Document(id=072f6e30d57aa4cb661e327213d9960adf5b2bd59f363417e71ec9cc009b1932, content: 'Kubernetes is a portable, extensible, open-source platform for managing containerized workloads and ...', meta: {'type': 'answer', 'domain': 'cloud'}),\n",
       " Document(id=55da0c02881421f7909d40daace1205a494b708f7ca570b241a76d12a33ac004, content: 'Harry Potter is a series of seven fantasy novels written by British author, J. K. Rowling.', meta: {'type': 'answer', 'domain': 'books'})]"
      ]
     },
     "execution_count": 5,
     "metadata": {},
     "output_type": "execute_result"
    }
   ],
   "source": [
    "document_store.filter_documents()"
   ]
  },
  {
   "cell_type": "markdown",
   "metadata": {},
   "source": [
    "Filter the documents based on the domain field"
   ]
  },
  {
   "cell_type": "code",
   "execution_count": 6,
   "metadata": {},
   "outputs": [
    {
     "data": {
      "text/plain": [
       "[Document(id=dda826befdf17b88a9d7394afd0f5f3073cbef06c8937083540dce0a9397c0d0, content: 'Is there a way to prevent the model from overfitting?', meta: {'type': 'question', 'domain': 'ai'}),\n",
       " Document(id=2cce5b2bb65191b25dc48ba8668d7f58ead16366077f6a9a56b0e1e57df06640, content: 'How can I reduce the overfitting of my model?', meta: {'type': 'question', 'domain': 'ai'}),\n",
       " Document(id=05eefcbe95ff6ff8bc7b458b9a0ab0db8fae8d88809b476ee7debb3503e6b614, content: 'How to avoid overfitting in my model?', meta: {'type': 'question', 'domain': 'ai'}),\n",
       " Document(id=44c7664ebb6ed84959e9baf2108b5161338586445b3c59078a117791c08aaff4, content: 'To avoid overfitting, you can use techniques like early stopping and dropout.', meta: {'type': 'answer', 'domain': 'ai'})]"
      ]
     },
     "execution_count": 6,
     "metadata": {},
     "output_type": "execute_result"
    }
   ],
   "source": [
    "filters = {\n",
    "    \"field\": \"meta.domain\",\n",
    "    \"operator\": \"==\",\n",
    "    \"value\": \"ai\",\n",
    "}\n",
    "\n",
    "results = document_store.filter_documents(filters=filters)\n",
    "\n",
    "results"
   ]
  },
  {
   "cell_type": "code",
   "execution_count": 7,
   "metadata": {},
   "outputs": [
    {
     "data": {
      "text/plain": [
       "[Document(id=44c7664ebb6ed84959e9baf2108b5161338586445b3c59078a117791c08aaff4, content: 'To avoid overfitting, you can use techniques like early stopping and dropout.', meta: {'type': 'answer', 'domain': 'ai'})]"
      ]
     },
     "execution_count": 7,
     "metadata": {},
     "output_type": "execute_result"
    }
   ],
   "source": [
    "filters = {\n",
    "    \"operator\": \"AND\",\n",
    "    \"conditions\": [\n",
    "        {\"field\": \"meta.domain\", \"operator\": \"==\", \"value\": \"ai\"},\n",
    "        {\"field\": \"meta.type\", \"operator\": \"==\", \"value\": \"answer\"},\n",
    "    ]\n",
    "}\n",
    "\n",
    "results = document_store.filter_documents(filters=filters)\n",
    "\n",
    "results"
   ]
  },
  {
   "cell_type": "code",
   "execution_count": null,
   "metadata": {},
   "outputs": [],
   "source": []
  }
 ],
 "metadata": {
  "kernelspec": {
   "display_name": ".venv",
   "language": "python",
   "name": "python3"
  },
  "language_info": {
   "codemirror_mode": {
    "name": "ipython",
    "version": 3
   },
   "file_extension": ".py",
   "mimetype": "text/x-python",
   "name": "python",
   "nbconvert_exporter": "python",
   "pygments_lexer": "ipython3",
   "version": "3.12.3"
  }
 },
 "nbformat": 4,
 "nbformat_minor": 2
}
